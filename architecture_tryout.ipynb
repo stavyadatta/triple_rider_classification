{
 "cells": [
  {
   "cell_type": "code",
   "execution_count": 1,
   "metadata": {},
   "outputs": [
    {
     "name": "stderr",
     "output_type": "stream",
     "text": [
      "2022-04-18 15:13:00.032010: W tensorflow/stream_executor/platform/default/dso_loader.cc:64] Could not load dynamic library 'libcudart.so.11.0'; dlerror: libcudart.so.11.0: cannot open shared object file: No such file or directory\n",
      "2022-04-18 15:13:00.032148: I tensorflow/stream_executor/cuda/cudart_stub.cc:29] Ignore above cudart dlerror if you do not have a GPU set up on your machine.\n"
     ]
    }
   ],
   "source": [
    "import matplotlib\n",
    "matplotlib.use(\"Agg\")\n",
    "\n",
    "# import the necessary packages\n",
    "from sklearn.preprocessing import LabelBinarizer\n",
    "from sklearn.model_selection import train_test_split\n",
    "from sklearn.metrics import classification_report\n",
    "from tensorflow.keras.models import Sequential\n",
    "from tensorflow.keras.preprocessing.image import ImageDataGenerator\n",
    "from tensorflow.keras.layers import Conv2D, MaxPooling2D, Activation, Flatten, Dense\n",
    "from tensorflow.keras import backend as K\n",
    "from tensorflow.keras.layers import Dense\n",
    "from tensorflow.keras.preprocessing.image import img_to_array\n",
    "from tensorflow.keras.utils import to_categorical\n",
    "from tensorflow.keras.optimizers import SGD\n",
    "from tensorflow.keras.optimizers import Adam\n",
    "from imutils import paths\n",
    "\n",
    "import matplotlib.pyplot as plt\n",
    "import numpy as np\n",
    "import argparse\n",
    "import random\n",
    "import pickle\n",
    "import cv2\n",
    "import os"
   ]
  },
  {
   "cell_type": "code",
   "execution_count": 2,
   "metadata": {},
   "outputs": [],
   "source": [
    "class modelNet:\n",
    "    @staticmethod\n",
    "    def build(width, height, depth, classes):\n",
    "        model = Sequential()\n",
    "        inputShape = (height, width, depth)\n",
    "        \n",
    "        model.add(Conv2D(20, (5, 5), padding=\"same\", input_shape=inputShape))\n",
    "        model.add(Activation(\"relu\"))\n",
    "        model.add(MaxPooling2D(pool_size=(2,2), strides=(2,2)))\n",
    "        \n",
    "        model.add(Conv2D(50, (5, 5), padding=\"same\"))\n",
    "        model.add(Activation(\"relu\"))\n",
    "        model.add(MaxPooling2D(pool_size=(2, 2), strides=(2, 2)))\n",
    "        \n",
    "        model.add(Flatten())\n",
    "        model.add(Dense(500))\n",
    "        model.add(Activation(\"relu\"))\n",
    "        \n",
    "        model.add(Dense(classes))\n",
    "        model.add(Activation(\"softmax\"))\n",
    "        \n",
    "        return model"
   ]
  },
  {
   "cell_type": "code",
   "execution_count": 16,
   "metadata": {},
   "outputs": [],
   "source": [
    "EPOCHS = 15\n",
    "INIT_LR = 1e-3\n",
    "BS = 64"
   ]
  },
  {
   "cell_type": "code",
   "execution_count": 4,
   "metadata": {},
   "outputs": [
    {
     "name": "stdout",
     "output_type": "stream",
     "text": [
      "[INFO] loading images...\n"
     ]
    }
   ],
   "source": [
    "print(\"[INFO] loading images...\")\n",
    "data = []\n",
    "labels = []"
   ]
  },
  {
   "cell_type": "code",
   "execution_count": 5,
   "metadata": {},
   "outputs": [],
   "source": [
    "imagePaths = sorted(list(paths.list_images(\"augData\")))\n",
    "random.seed(42)\n",
    "random.shuffle(imagePaths)"
   ]
  },
  {
   "cell_type": "code",
   "execution_count": 6,
   "metadata": {},
   "outputs": [],
   "source": [
    "for imagePath in imagePaths:    \n",
    "    label = imagePath.split(os.path.sep)[-2]\n",
    "    \n",
    "    if label == \"triple_rider\":\n",
    "        label = 1\n",
    "        labels.append(label)\n",
    "    else:\n",
    "        label = 0\n",
    "        labels.append(label)\n",
    "    \n",
    "    image = cv2.imread(imagePath)\n",
    "    image = cv2.resize(image, (28, 28))\n",
    "    image = img_to_array(image)\n",
    "    data.append(image)\n",
    "    "
   ]
  },
  {
   "cell_type": "code",
   "execution_count": 7,
   "metadata": {},
   "outputs": [
    {
     "data": {
      "text/plain": [
       "{0: 5015, 1: 4652}"
      ]
     },
     "execution_count": 7,
     "metadata": {},
     "output_type": "execute_result"
    }
   ],
   "source": [
    "unique, counts = np.unique(np.array(labels), return_counts=True)\n",
    "dict(zip(unique, counts))"
   ]
  },
  {
   "cell_type": "code",
   "execution_count": 8,
   "metadata": {},
   "outputs": [],
   "source": [
    "data = np.array(data, dtype=\"float\") / 255.0\n",
    "labels = np.array(labels)"
   ]
  },
  {
   "cell_type": "code",
   "execution_count": 9,
   "metadata": {},
   "outputs": [],
   "source": [
    "(trainX, testX, trainY, testY) = train_test_split(data, labels, test_size=0.25, random_state=42)\n",
    "\n",
    "trainY = to_categorical(trainY, num_classes=2)\n",
    "testY = to_categorical(testY, num_classes=2)"
   ]
  },
  {
   "cell_type": "code",
   "execution_count": 136,
   "metadata": {},
   "outputs": [],
   "source": [
    "aug = ImageDataGenerator(rotation_range=30, width_shift_range=0.1,\n",
    "\theight_shift_range=0.1, shear_range=0.2, zoom_range=0.2,\n",
    "\tfill_mode=\"nearest\")"
   ]
  },
  {
   "cell_type": "code",
   "execution_count": 17,
   "metadata": {},
   "outputs": [
    {
     "name": "stdout",
     "output_type": "stream",
     "text": [
      "[INFO] compiling model...\n"
     ]
    }
   ],
   "source": [
    "print(\"[INFO] compiling model...\")\n",
    "model = modelNet.build(width=28, height=28, depth=3, classes=2)\n",
    "opt = Adam(lr=INIT_LR, decay=INIT_LR / EPOCHS)\n",
    "\n",
    "model.compile(loss=\"binary_crossentropy\", optimizer=opt,\n",
    "\tmetrics=[\"accuracy\"])"
   ]
  },
  {
   "cell_type": "code",
   "execution_count": 18,
   "metadata": {},
   "outputs": [
    {
     "name": "stdout",
     "output_type": "stream",
     "text": [
      "[INFO] training network...\n",
      "Epoch 1/15\n",
      "113/113 [==============================] - 27s 225ms/step - loss: 0.5284 - accuracy: 0.7573 - val_loss: 0.4883 - val_accuracy: 0.7865\n",
      "Epoch 2/15\n",
      "113/113 [==============================] - 24s 216ms/step - loss: 0.4569 - accuracy: 0.7999 - val_loss: 0.4856 - val_accuracy: 0.7592\n",
      "Epoch 3/15\n",
      "113/113 [==============================] - 24s 213ms/step - loss: 0.3874 - accuracy: 0.8348 - val_loss: 0.3837 - val_accuracy: 0.8407\n",
      "Epoch 4/15\n",
      "113/113 [==============================] - 24s 213ms/step - loss: 0.3368 - accuracy: 0.8575 - val_loss: 0.3336 - val_accuracy: 0.8614\n",
      "Epoch 5/15\n",
      "113/113 [==============================] - 24s 213ms/step - loss: 0.2731 - accuracy: 0.8820 - val_loss: 0.3545 - val_accuracy: 0.8271\n",
      "Epoch 6/15\n",
      "113/113 [==============================] - 25s 220ms/step - loss: 0.2474 - accuracy: 0.9022 - val_loss: 0.3707 - val_accuracy: 0.8573\n",
      "Epoch 7/15\n",
      "113/113 [==============================] - 25s 220ms/step - loss: 0.1890 - accuracy: 0.9261 - val_loss: 0.2740 - val_accuracy: 0.8920\n",
      "Epoch 8/15\n",
      "113/113 [==============================] - 25s 221ms/step - loss: 0.1485 - accuracy: 0.9413 - val_loss: 0.3202 - val_accuracy: 0.8821\n",
      "Epoch 9/15\n",
      "113/113 [==============================] - 32s 281ms/step - loss: 0.1331 - accuracy: 0.9482 - val_loss: 0.2700 - val_accuracy: 0.8912\n",
      "Epoch 10/15\n",
      "113/113 [==============================] - 24s 209ms/step - loss: 0.0844 - accuracy: 0.9713 - val_loss: 0.2962 - val_accuracy: 0.8928\n",
      "Epoch 11/15\n",
      "113/113 [==============================] - 25s 219ms/step - loss: 0.0542 - accuracy: 0.9823 - val_loss: 0.2989 - val_accuracy: 0.8962\n",
      "Epoch 12/15\n",
      "113/113 [==============================] - 24s 216ms/step - loss: 0.0506 - accuracy: 0.9837 - val_loss: 0.2803 - val_accuracy: 0.9053\n",
      "Epoch 13/15\n",
      "113/113 [==============================] - 26s 228ms/step - loss: 0.0255 - accuracy: 0.9950 - val_loss: 0.3219 - val_accuracy: 0.9098\n",
      "Epoch 14/15\n",
      "113/113 [==============================] - 25s 219ms/step - loss: 0.0194 - accuracy: 0.9954 - val_loss: 0.3029 - val_accuracy: 0.9098\n",
      "Epoch 15/15\n",
      "113/113 [==============================] - 24s 212ms/step - loss: 0.0107 - accuracy: 0.9987 - val_loss: 0.3236 - val_accuracy: 0.9024\n",
      "[INFO] serializing network...\n"
     ]
    }
   ],
   "source": [
    "print(\"[INFO] training network...\")\n",
    "H = model.fit(trainX, trainY, batch_size=BS,\n",
    "\tvalidation_data=(testX, testY), steps_per_epoch=len(trainX) // BS,\n",
    "\tepochs=EPOCHS, verbose=1)\n",
    "# save the model to disk\n",
    "print(\"[INFO] serializing network...\")\n",
    "model.save(\"model_1.h5\", save_format=\"h5\")"
   ]
  },
  {
   "cell_type": "code",
   "execution_count": 37,
   "metadata": {},
   "outputs": [],
   "source": [
    "plt.style.use(\"ggplot\")\n",
    "plt.figure()\n",
    "N = EPOCHS\n",
    "plt.plot(np.arange(0, N), H.history[\"loss\"], label=\"train_loss\")\n",
    "plt.plot(np.arange(0, N), H.history[\"val_loss\"], label=\"val_loss\")\n",
    "plt.plot(np.arange(0, N), H.history[\"accuracy\"], label=\"train_acc\")\n",
    "plt.plot(np.arange(0, N), H.history[\"val_accuracy\"], label=\"val_acc\")\n",
    "plt.title(\"Training Loss and Accuracy on Double and triple rider\")\n",
    "plt.xlabel(\"Epoch #\")\n",
    "plt.ylabel(\"Loss/Accuracy\")\n",
    "plt.legend(loc=\"lower left\")\n",
    "plt.savefig(\"plot_2.png\")"
   ]
  },
  {
   "cell_type": "code",
   "execution_count": 20,
   "metadata": {},
   "outputs": [
    {
     "name": "stdout",
     "output_type": "stream",
     "text": [
      "(2417, 2)\n"
     ]
    }
   ],
   "source": [
    "predictions = model.predict(x=testX, batch_size=32)\n",
    "\n",
    "print(predictions.shape)"
   ]
  },
  {
   "cell_type": "code",
   "execution_count": 25,
   "metadata": {},
   "outputs": [
    {
     "name": "stdout",
     "output_type": "stream",
     "text": [
      "              precision    recall  f1-score   support\n",
      "\n",
      "triple_rider       0.90      0.91      0.91      1269\n",
      "double_rider       0.90      0.89      0.90      1148\n",
      "\n",
      "    accuracy                           0.90      2417\n",
      "   macro avg       0.90      0.90      0.90      2417\n",
      "weighted avg       0.90      0.90      0.90      2417\n",
      "\n"
     ]
    }
   ],
   "source": [
    "print(classification_report(testY.argmax(axis=1),\n",
    "\tpredictions.argmax(axis=1),target_names=[\"triple_rider\",\"double_rider\"]))"
   ]
  },
  {
   "cell_type": "code",
   "execution_count": 28,
   "metadata": {},
   "outputs": [],
   "source": [
    "#importing the original dataset\n",
    "data = []\n",
    "labels = []\n",
    "imagePaths = sorted(list(paths.list_images(\"Dataset\")))\n",
    "\n",
    "for imagePath in imagePaths:\n",
    "    \n",
    "    label = imagePath.split(os.path.sep)[-2]\n",
    "    if label == \"triple_person\":\n",
    "        label = 1\n",
    "    else:\n",
    "        label = 0\n",
    "    labels.append(label)\n",
    "    \n",
    "    # for images\n",
    "    image = cv2.imread(imagePath)\n",
    "    image = cv2.resize(image, (28, 28))\n",
    "    image = img_to_array(image)\n",
    "    data.append(image)\n"
   ]
  },
  {
   "cell_type": "code",
   "execution_count": 31,
   "metadata": {},
   "outputs": [],
   "source": [
    "data = np.array(data)\n",
    "labels = np.array(labels)\n",
    "\n",
    "labels = to_categorical(labels, num_classes=2)"
   ]
  },
  {
   "cell_type": "code",
   "execution_count": 34,
   "metadata": {},
   "outputs": [],
   "source": [
    "predictions = model.predict(x=data, batch_size=64)\n"
   ]
  },
  {
   "cell_type": "code",
   "execution_count": 38,
   "metadata": {},
   "outputs": [
    {
     "name": "stdout",
     "output_type": "stream",
     "text": [
      "              precision    recall  f1-score   support\n",
      "\n",
      "double_rider       0.94      0.82      0.87       948\n",
      "triple_rider       0.06      0.17      0.09        63\n",
      "\n",
      "    accuracy                           0.78      1011\n",
      "   macro avg       0.50      0.50      0.48      1011\n",
      "weighted avg       0.88      0.78      0.82      1011\n",
      "\n"
     ]
    }
   ],
   "source": [
    "print(classification_report(labels.argmax(axis=1), predictions.argmax(axis=1),\n",
    "                        target_names=[\"double_rider\",\"triple_rider\"]))"
   ]
  }
 ],
 "metadata": {
  "interpreter": {
   "hash": "4d1099e7dbe4b62249051d2b6a85870902eeb6ff5afbe2c11682c0cafad43d6e"
  },
  "kernelspec": {
   "display_name": "Python 3.8.13 ('tripleRider')",
   "language": "python",
   "name": "python3"
  },
  "language_info": {
   "codemirror_mode": {
    "name": "ipython",
    "version": 3
   },
   "file_extension": ".py",
   "mimetype": "text/x-python",
   "name": "python",
   "nbconvert_exporter": "python",
   "pygments_lexer": "ipython3",
   "version": "3.8.13"
  },
  "orig_nbformat": 4
 },
 "nbformat": 4,
 "nbformat_minor": 2
}
