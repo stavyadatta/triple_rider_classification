{
  "cells": [
    {
      "cell_type": "code",
      "source": [
        "from google.colab import drive\n",
        "drive.mount('/content/drive')"
      ],
      "metadata": {
        "colab": {
          "base_uri": "https://localhost:8080/"
        },
        "id": "6dKyLkuxSXv0",
        "outputId": "2542fe05-c0f6-45f2-ee6b-681504b17b12"
      },
      "execution_count": 1,
      "outputs": [
        {
          "output_type": "stream",
          "name": "stdout",
          "text": [
            "Mounted at /content/drive\n"
          ]
        }
      ]
    },
    {
      "cell_type": "code",
      "source": [
        "!unzip \"/content/drive/MyDrive/Awiros Work/Triple Riding/Colab Data.zip\" -d \"/content\""
      ],
      "metadata": {
        "id": "3fdqWkhGctAT"
      },
      "execution_count": null,
      "outputs": []
    },
    {
      "cell_type": "code",
      "execution_count": 172,
      "metadata": {
        "id": "1c72OlapRLep"
      },
      "outputs": [],
      "source": [
        "import matplotlib\n",
        "matplotlib.use(\"Agg\")\n",
        "\n",
        "# import the necessary packages\n",
        "from sklearn.preprocessing import LabelBinarizer\n",
        "from sklearn.model_selection import train_test_split\n",
        "from sklearn.metrics import classification_report\n",
        "from tensorflow.keras.models import Sequential\n",
        "from tensorflow.keras.layers import Conv2D, MaxPooling2D, Activation, Flatten, Dense\n",
        "from tensorflow.keras.layers import Dense\n",
        "from tensorflow.keras.preprocessing.image import img_to_array\n",
        "from tensorflow.keras.optimizers import Adam\n",
        "from imutils import paths\n",
        "import imagesize\n",
        "import matplotlib.pyplot as plt\n",
        "import numpy as np\n",
        "import pandas as pd\n",
        "import random\n",
        "import cv2\n",
        "import os"
      ]
    },
    {
      "cell_type": "code",
      "execution_count": 173,
      "metadata": {
        "id": "5WBzWJa4RLet"
      },
      "outputs": [],
      "source": [
        "class modelNet:\n",
        "    @staticmethod\n",
        "    def LeNet(width, height, depth, classes):\n",
        "        model = Sequential()\n",
        "        inputShape = (height, width, depth)\n",
        "        \n",
        "        model.add(Conv2D(4, (3, 3), padding=\"same\", input_shape=inputShape))\n",
        "        model.add(Activation(\"relu\"))\n",
        "        model.add(MaxPooling2D(pool_size=(2,2), strides=(2,2)))\n",
        "        \n",
        "        model.add(Conv2D(8, (5, 5), padding=\"same\"))\n",
        "        model.add(Activation(\"relu\"))\n",
        "        model.add(MaxPooling2D(pool_size=(2, 2), strides=(2, 2)))\n",
        "        \n",
        "        model.add(Flatten())\n",
        "        model.add(Dense(16))\n",
        "        model.add(Activation(\"relu\"))\n",
        "        \n",
        "        model.add(Dense(classes))\n",
        "        model.add(Activation(\"softmax\"))\n",
        "        \n",
        "        return model\n",
        "    \n",
        "    @staticmethod\n",
        "    def VGG16(classes):\n",
        "        # initializing the model\n",
        "        model = Sequential()\n",
        "        \n",
        "        \n",
        "        model.add(Conv2D(input_shape=(224,224,3),filters=64,kernel_size=(3,3),padding=\"same\", activation=\"relu\"))\n",
        "        model.add(Conv2D(filters=64,kernel_size=(3,3),padding=\"same\", activation=\"relu\"))\n",
        "        \n",
        "        model.add(MaxPool2D(pool_size=(2,2),strides=(2,2)))\n",
        "        \n",
        "        model.add(Conv2D(filters=128, kernel_size=(3,3), padding=\"same\", activation=\"relu\"))\n",
        "        model.add(Conv2D(filters=128, kernel_size=(3,3), padding=\"same\", activation=\"relu\"))\n",
        "        \n",
        "        model.add(MaxPool2D(pool_size=(2,2),strides=(2,2)))\n",
        "        model.add(Conv2D(filters=256, kernel_size=(3,3), padding=\"same\", activation=\"relu\"))\n",
        "        \n",
        "        model.add(Conv2D(filters=256, kernel_size=(3,3), padding=\"same\", activation=\"relu\"))\n",
        "        \n",
        "        model.add(Conv2D(filters=256, kernel_size=(3,3), padding=\"same\", activation=\"relu\"))\n",
        "        model.add(MaxPool2D(pool_size=(2,2),strides=(2,2)))\n",
        "        \n",
        "        model.add(Conv2D(filters=512, kernel_size=(3,3), padding=\"same\", activation=\"relu\"))\n",
        "        model.add(Conv2D(filters=512, kernel_size=(3,3), padding=\"same\", activation=\"relu\"))\n",
        "        \n",
        "        model.add(Conv2D(filters=512, kernel_size=(3,3), padding=\"same\", activation=\"relu\"))\n",
        "        \n",
        "        model.add(MaxPool2D(pool_size=(2,2),strides=(2,2)))\n",
        "        \n",
        "        model.add(Conv2D(filters=512, kernel_size=(3,3), padding=\"same\", activation=\"relu\"))\n",
        "        \n",
        "        model.add(Conv2D(filters=512, kernel_size=(3,3), padding=\"same\", activation=\"relu\"))\n",
        "        \n",
        "        model.add(Conv2D(filters=512, kernel_size=(3,3), padding=\"same\", activation=\"relu\"))\n",
        "        \n",
        "        model.add(MaxPool2D(pool_size=(2,2),strides=(2,2)))\n",
        "        \n",
        "        model.add(Flatten())\n",
        "        model.add(Dense(units=4096,activation=\"relu\"))\n",
        "        model.add(Dense(units=4096,activation=\"relu\"))\n",
        "        \n",
        "        model.add(Dense(units=classes, activation=\"softmax\"))\n",
        "    "
      ]
    },
    {
      "cell_type": "code",
      "execution_count": 174,
      "metadata": {
        "id": "FkGW-uBxRLex"
      },
      "outputs": [],
      "source": [
        "EPOCHS = 5\n",
        "INIT_LR = 1e-3\n",
        "BS = 8\n",
        "CLASSES = 3\n",
        "WIDTH = 224\n",
        "HEIGHT = 224"
      ]
    },
    {
      "cell_type": "code",
      "execution_count": 175,
      "metadata": {
        "colab": {
          "base_uri": "https://localhost:8080/"
        },
        "id": "Z_1raJ6jRLez",
        "outputId": "e863ef14-fe50-4f50-fc49-1e43ecc79f71"
      },
      "outputs": [
        {
          "output_type": "stream",
          "name": "stdout",
          "text": [
            "[INFO] loading images...\n"
          ]
        }
      ],
      "source": [
        "print(\"[INFO] loading images...\")\n",
        "data = []\n",
        "labels = []"
      ]
    },
    {
      "cell_type": "code",
      "execution_count": 176,
      "metadata": {
        "id": "NaQDsHE6RLe0"
      },
      "outputs": [],
      "source": [
        "imagePaths = sorted(list(paths.list_images(\"/content/Colab Data/trialDataset\")))\n",
        "random.seed(42)\n",
        "random.shuffle(imagePaths)"
      ]
    },
    {
      "cell_type": "markdown",
      "metadata": {
        "id": "9xqTP7SlRLe7"
      },
      "source": [
        "### Taking out the images and training the model"
      ]
    },
    {
      "cell_type": "code",
      "execution_count": 177,
      "metadata": {
        "id": "L8vQUxufRLe9"
      },
      "outputs": [],
      "source": [
        "for imagePath in imagePaths:    \n",
        "    label = imagePath.split(os.path.sep)[-2]\n",
        "    labels.append(label)\n",
        "    \n",
        "    image = cv2.imread(imagePath)\n",
        "    image = cv2.resize(image, (WIDTH, HEIGHT))\n",
        "    image = img_to_array(image)\n",
        "    data.append(image)\n",
        "    "
      ]
    },
    {
      "cell_type": "code",
      "execution_count": 178,
      "metadata": {
        "colab": {
          "base_uri": "https://localhost:8080/"
        },
        "id": "8LTBeUY7RLe-",
        "outputId": "7d396bce-2761-4fc7-d279-1c75643eed99"
      },
      "outputs": [
        {
          "output_type": "execute_result",
          "data": {
            "text/plain": [
              "{'double_person': 947, 'single_person': 963, 'triple_person': 612}"
            ]
          },
          "metadata": {},
          "execution_count": 178
        }
      ],
      "source": [
        "unique, counts = np.unique(np.array(labels), return_counts=True)\n",
        "dict(zip(unique, counts))"
      ]
    },
    {
      "cell_type": "code",
      "execution_count": 179,
      "metadata": {
        "id": "oE5ei_wfRLe_"
      },
      "outputs": [],
      "source": [
        "data = np.array(data, dtype=\"float\") / 255.0\n",
        "labels = np.array(labels)"
      ]
    },
    {
      "cell_type": "code",
      "execution_count": 180,
      "metadata": {
        "id": "_tkZUOjbRLfA"
      },
      "outputs": [],
      "source": [
        "(trainX, testX, trainY, testY) = train_test_split(data, labels, test_size=0.25, random_state=42)\n",
        "del(data)\n",
        "del(labels)\n",
        "\n",
        "lb = LabelBinarizer()\n",
        "trainY = lb.fit_transform(trainY)\n",
        "testY = lb.transform(testY)"
      ]
    },
    {
      "cell_type": "code",
      "execution_count": 181,
      "metadata": {
        "colab": {
          "base_uri": "https://localhost:8080/"
        },
        "id": "KQUtsm1KRLfC",
        "outputId": "24d4500c-96ba-40c5-d4fb-ea4672a1c0fc"
      },
      "outputs": [
        {
          "output_type": "stream",
          "name": "stdout",
          "text": [
            "[INFO] compiling model...\n"
          ]
        },
        {
          "output_type": "stream",
          "name": "stderr",
          "text": [
            "/usr/local/lib/python3.7/dist-packages/keras/optimizer_v2/adam.py:105: UserWarning: The `lr` argument is deprecated, use `learning_rate` instead.\n",
            "  super(Adam, self).__init__(name, **kwargs)\n"
          ]
        }
      ],
      "source": [
        "print(\"[INFO] compiling model...\")\n",
        "model = modelNet.LeNet(width=WIDTH, height=HEIGHT, depth=3, classes=CLASSES)\n",
        "opt = Adam(lr=INIT_LR, decay=INIT_LR / EPOCHS)\n",
        "\n",
        "model.compile(loss=\"categorical_crossentropy\", optimizer=opt,\n",
        "\tmetrics=[\"accuracy\"])"
      ]
    },
    {
      "cell_type": "code",
      "execution_count": 182,
      "metadata": {
        "colab": {
          "base_uri": "https://localhost:8080/"
        },
        "id": "5FWqoeIfRLfD",
        "outputId": "ed226a8b-97b6-4d56-d936-24ed4b92165a"
      },
      "outputs": [
        {
          "output_type": "stream",
          "name": "stdout",
          "text": [
            "Model: \"sequential_8\"\n",
            "_________________________________________________________________\n",
            " Layer (type)                Output Shape              Param #   \n",
            "=================================================================\n",
            " conv2d_14 (Conv2D)          (None, 224, 224, 4)       112       \n",
            "                                                                 \n",
            " activation_30 (Activation)  (None, 224, 224, 4)       0         \n",
            "                                                                 \n",
            " max_pooling2d_14 (MaxPoolin  (None, 112, 112, 4)      0         \n",
            " g2D)                                                            \n",
            "                                                                 \n",
            " conv2d_15 (Conv2D)          (None, 112, 112, 8)       808       \n",
            "                                                                 \n",
            " activation_31 (Activation)  (None, 112, 112, 8)       0         \n",
            "                                                                 \n",
            " max_pooling2d_15 (MaxPoolin  (None, 56, 56, 8)        0         \n",
            " g2D)                                                            \n",
            "                                                                 \n",
            " flatten_8 (Flatten)         (None, 25088)             0         \n",
            "                                                                 \n",
            " dense_16 (Dense)            (None, 16)                401424    \n",
            "                                                                 \n",
            " activation_32 (Activation)  (None, 16)                0         \n",
            "                                                                 \n",
            " dense_17 (Dense)            (None, 3)                 51        \n",
            "                                                                 \n",
            " activation_33 (Activation)  (None, 3)                 0         \n",
            "                                                                 \n",
            "=================================================================\n",
            "Total params: 402,395\n",
            "Trainable params: 402,395\n",
            "Non-trainable params: 0\n",
            "_________________________________________________________________\n"
          ]
        }
      ],
      "source": [
        "model.summary()"
      ]
    },
    {
      "cell_type": "code",
      "execution_count": 183,
      "metadata": {
        "colab": {
          "base_uri": "https://localhost:8080/"
        },
        "id": "MXYRNzD2RLfE",
        "outputId": "39b9c2c2-1ba4-41ce-9102-867d9aa9ea60"
      },
      "outputs": [
        {
          "output_type": "stream",
          "name": "stdout",
          "text": [
            "[INFO] training network...\n",
            "Epoch 1/5\n",
            "236/236 [==============================] - 3s 10ms/step - loss: 0.6843 - accuracy: 0.6801 - val_loss: 0.5683 - val_accuracy: 0.7544\n",
            "Epoch 2/5\n",
            "236/236 [==============================] - 2s 8ms/step - loss: 0.3473 - accuracy: 0.8598 - val_loss: 0.5487 - val_accuracy: 0.7496\n",
            "Epoch 3/5\n",
            "236/236 [==============================] - 2s 7ms/step - loss: 0.1749 - accuracy: 0.9474 - val_loss: 0.6262 - val_accuracy: 0.7829\n",
            "Epoch 4/5\n",
            "236/236 [==============================] - 2s 7ms/step - loss: 0.0667 - accuracy: 0.9851 - val_loss: 0.6408 - val_accuracy: 0.7829\n",
            "Epoch 5/5\n",
            "236/236 [==============================] - 2s 7ms/step - loss: 0.0238 - accuracy: 0.9968 - val_loss: 0.7876 - val_accuracy: 0.7845\n",
            "[INFO] serializing network...\n"
          ]
        }
      ],
      "source": [
        "print(\"[INFO] training network...\")\n",
        "H = model.fit(trainX, trainY, batch_size=BS,\n",
        "    validation_data=(testX, testY),\n",
        "\tsteps_per_epoch=len(trainX) // BS,\n",
        "\tepochs=EPOCHS, verbose=1)\n",
        "# save the model to disk\n",
        "print(\"[INFO] serializing network...\")\n",
        "model.save(\"model_1.h5\", save_format=\"h5\")"
      ]
    },
    {
      "cell_type": "code",
      "execution_count": 184,
      "metadata": {
        "id": "RjlO5UJXRLfF"
      },
      "outputs": [],
      "source": [
        "plt.style.use(\"ggplot\")\n",
        "plt.figure()\n",
        "N = EPOCHS\n",
        "plt.plot(np.arange(0, N), H.history[\"loss\"], label=\"train_loss\")\n",
        "plt.plot(np.arange(0, N), H.history[\"accuracy\"], label=\"train_acc\")\n",
        "plt.plot(np.arange(0, N), H.history[\"val_loss\"], label=\"val_loss\")\n",
        "plt.plot(np.arange(0, N), H.history[\"val_accuracy\"], label=\"val_accuracy\")\n",
        "plt.title(\"Training Loss and Accuracy on Double and triple rider\")\n",
        "plt.xlabel(\"Epoch #\")\n",
        "plt.ylabel(\"Loss/Accuracy\")\n",
        "plt.legend(loc=\"lower left\")\n",
        "plt.savefig(\"plot_multi_class_4.png\")"
      ]
    },
    {
      "cell_type": "code",
      "execution_count": 185,
      "metadata": {
        "colab": {
          "base_uri": "https://localhost:8080/"
        },
        "id": "CZCs3_9xRLfG",
        "outputId": "4e52039d-44fa-410b-e2bc-e632a5168c72"
      },
      "outputs": [
        {
          "output_type": "stream",
          "name": "stdout",
          "text": [
            "(631, 3)\n"
          ]
        }
      ],
      "source": [
        "predictions = model.predict(x=testX, batch_size=BS)\n",
        "\n",
        "print(predictions.shape)"
      ]
    },
    {
      "cell_type": "code",
      "execution_count": 186,
      "metadata": {
        "colab": {
          "base_uri": "https://localhost:8080/"
        },
        "id": "xFv-xLLsRLfH",
        "outputId": "690587c9-939f-474b-c399-1e4ee57ec75c"
      },
      "outputs": [
        {
          "output_type": "stream",
          "name": "stdout",
          "text": [
            "               precision    recall  f1-score   support\n",
            "\n",
            "double_person       0.76      0.70      0.73       251\n",
            "single_person       0.75      0.86      0.80       239\n",
            "triple_person       0.91      0.81      0.86       141\n",
            "\n",
            "     accuracy                           0.78       631\n",
            "    macro avg       0.81      0.79      0.79       631\n",
            " weighted avg       0.79      0.78      0.78       631\n",
            "\n"
          ]
        }
      ],
      "source": [
        "print(classification_report(testY.argmax(axis=1),predictions.argmax(axis=1),target_names=lb.classes_))"
      ]
    },
    {
      "cell_type": "markdown",
      "metadata": {
        "id": "ihf5v-KLRLfI"
      },
      "source": [
        "### Trying out test set with 3 classification"
      ]
    },
    {
      "cell_type": "code",
      "execution_count": 187,
      "metadata": {
        "id": "6jGbK1W4RLfJ"
      },
      "outputs": [],
      "source": [
        "test_imagepaths = sorted(list(paths.list_images(\"/content/Colab Data/testSet\")))\n",
        "random.seed(42)\n",
        "random.shuffle(test_imagepaths)"
      ]
    },
    {
      "cell_type": "code",
      "execution_count": 188,
      "metadata": {
        "id": "fn833l3zRLfJ"
      },
      "outputs": [],
      "source": [
        "test_labels = []\n",
        "test_data = []\n",
        "for imagePath in test_imagepaths:    \n",
        "    label = imagePath.split(os.path.sep)[-2]\n",
        "    test_labels.append(label)\n",
        "    \n",
        "    image = cv2.imread(imagePath)\n",
        "    image = cv2.resize(image, (WIDTH, HEIGHT))\n",
        "    image = img_to_array(image)\n",
        "    test_data.append(image)\n",
        "\n",
        "test_labels = np.array(test_labels)\n",
        "test_data = np.array(test_data, dtype=\"float\") / 255.0\n"
      ]
    },
    {
      "cell_type": "code",
      "execution_count": 189,
      "metadata": {
        "id": "RXWBJgh8RLfJ"
      },
      "outputs": [],
      "source": [
        "lb = LabelBinarizer()\n",
        "test_labels = lb.fit_transform(test_labels)"
      ]
    },
    {
      "cell_type": "code",
      "execution_count": 190,
      "metadata": {
        "colab": {
          "base_uri": "https://localhost:8080/"
        },
        "id": "DQLu_XIQRLfK",
        "outputId": "225854ae-b731-48e5-c2cf-c0c1382da3df"
      },
      "outputs": [
        {
          "output_type": "stream",
          "name": "stdout",
          "text": [
            "(221, 3)\n"
          ]
        }
      ],
      "source": [
        "test_predictions = model.predict(x=test_data, batch_size=32)\n",
        "\n",
        "print(test_predictions.shape)"
      ]
    },
    {
      "cell_type": "code",
      "execution_count": 191,
      "metadata": {
        "colab": {
          "base_uri": "https://localhost:8080/"
        },
        "id": "Ca4XMiSMRLfL",
        "outputId": "e4b0d8ee-eb7e-4220-cf6b-801552243f5e"
      },
      "outputs": [
        {
          "output_type": "execute_result",
          "data": {
            "text/plain": [
              "array([0, 1, 0, 2, 0, 0, 1, 0, 2, 1, 2, 0, 1, 0, 1, 1, 1, 2, 1, 0, 2, 2,\n",
              "       0, 1, 0, 2, 1, 1, 0, 1, 0, 0, 1, 0, 0, 1, 0, 0, 0, 2, 0, 0, 0, 1,\n",
              "       1, 0, 0, 1, 0, 1, 0, 1, 0, 2, 0, 0, 0, 1, 1, 1, 1, 0, 2, 0, 1, 1,\n",
              "       1, 0, 0, 1, 1, 1, 1, 1, 1, 0, 0, 1, 2, 0, 0, 0, 0, 0, 0, 1, 0, 1,\n",
              "       1, 0, 2, 0, 0, 2, 0, 0, 1, 1, 0, 2, 0, 1, 0, 0, 1, 1, 0, 0, 0, 2,\n",
              "       1, 0, 0, 2, 1, 1, 1, 0, 0, 0, 1, 1, 1, 2, 2, 0, 0, 2, 0, 1, 1, 0,\n",
              "       0, 1, 1, 1, 0, 0, 0, 2, 0, 2, 1, 1, 2, 2, 1, 0, 0, 2, 2, 0, 0, 1,\n",
              "       0, 1, 0, 1, 0, 0, 2, 1, 0, 2, 2, 1, 0, 0, 0, 0, 0, 0, 0, 1, 0, 0,\n",
              "       0, 0, 0, 0, 0, 1, 0, 0, 2, 1, 1, 1, 0, 0, 1, 0, 0, 0, 0, 1, 1, 2,\n",
              "       1, 1, 1, 1, 2, 1, 1, 1, 0, 0, 1, 0, 0, 0, 0, 0, 0, 1, 0, 0, 2, 0,\n",
              "       0])"
            ]
          },
          "metadata": {},
          "execution_count": 191
        }
      ],
      "source": [
        "test_predictions.argmax(axis=1)"
      ]
    },
    {
      "cell_type": "code",
      "execution_count": 192,
      "metadata": {
        "colab": {
          "base_uri": "https://localhost:8080/"
        },
        "id": "O8lhJCwxRLfM",
        "outputId": "4cac69ff-aa2f-42da-f0a1-8d95729950dc"
      },
      "outputs": [
        {
          "output_type": "stream",
          "name": "stdout",
          "text": [
            "               precision    recall  f1-score   support\n",
            "\n",
            "double_person       0.29      0.41      0.34        78\n",
            "single_person       0.63      0.61      0.62        80\n",
            "triple_person       0.25      0.13      0.17        63\n",
            "\n",
            "     accuracy                           0.40       221\n",
            "    macro avg       0.39      0.38      0.38       221\n",
            " weighted avg       0.40      0.40      0.39       221\n",
            "\n"
          ]
        }
      ],
      "source": [
        "print(classification_report(test_labels.argmax(axis=1),test_predictions.argmax(axis=1),target_names=lb.classes_))"
      ]
    }
  ],
  "metadata": {
    "interpreter": {
      "hash": "4d1099e7dbe4b62249051d2b6a85870902eeb6ff5afbe2c11682c0cafad43d6e"
    },
    "kernelspec": {
      "display_name": "Python 3.8.13 ('tripleRider')",
      "language": "python",
      "name": "python3"
    },
    "language_info": {
      "codemirror_mode": {
        "name": "ipython",
        "version": 3
      },
      "file_extension": ".py",
      "mimetype": "text/x-python",
      "name": "python",
      "nbconvert_exporter": "python",
      "pygments_lexer": "ipython3",
      "version": "3.8.13"
    },
    "orig_nbformat": 4,
    "colab": {
      "name": "architecture_tryout.ipynb",
      "provenance": [],
      "machine_shape": "hm"
    },
    "accelerator": "GPU"
  },
  "nbformat": 4,
  "nbformat_minor": 0
}