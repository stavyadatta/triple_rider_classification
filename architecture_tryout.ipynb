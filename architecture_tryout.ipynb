{
 "cells": [
  {
   "cell_type": "code",
   "execution_count": 1,
   "metadata": {},
   "outputs": [
    {
     "name": "stderr",
     "output_type": "stream",
     "text": [
      "2022-04-18 15:13:00.032010: W tensorflow/stream_executor/platform/default/dso_loader.cc:64] Could not load dynamic library 'libcudart.so.11.0'; dlerror: libcudart.so.11.0: cannot open shared object file: No such file or directory\n",
      "2022-04-18 15:13:00.032148: I tensorflow/stream_executor/cuda/cudart_stub.cc:29] Ignore above cudart dlerror if you do not have a GPU set up on your machine.\n"
     ]
    }
   ],
   "source": [
    "import matplotlib\n",
    "matplotlib.use(\"Agg\")\n",
    "\n",
    "# import the necessary packages\n",
    "from sklearn.preprocessing import LabelBinarizer\n",
    "from sklearn.model_selection import train_test_split\n",
    "from sklearn.metrics import classification_report\n",
    "from tensorflow.keras.models import Sequential\n",
    "from tensorflow.keras.preprocessing.image import ImageDataGenerator\n",
    "from tensorflow.keras.layers import Conv2D, MaxPooling2D, Activation, Flatten, Dense\n",
    "from tensorflow.keras import backend as K\n",
    "from tensorflow.keras.layers import Dense\n",
    "from tensorflow.keras.preprocessing.image import img_to_array\n",
    "from tensorflow.keras.utils import to_categorical\n",
    "from tensorflow.keras.optimizers import SGD\n",
    "from tensorflow.keras.optimizers import Adam\n",
    "from imutils import paths\n",
    "\n",
    "import matplotlib.pyplot as plt\n",
    "import numpy as np\n",
    "import argparse\n",
    "import random\n",
    "import pickle\n",
    "import cv2\n",
    "import os"
   ]
  },
  {
   "cell_type": "code",
   "execution_count": 2,
   "metadata": {},
   "outputs": [],
   "source": [
    "class modelNet:\n",
    "    @staticmethod\n",
    "    def build(width, height, depth, classes):\n",
    "        model = Sequential()\n",
    "        inputShape = (height, width, depth)\n",
    "        \n",
    "        model.add(Conv2D(20, (5, 5), padding=\"same\", input_shape=inputShape))\n",
    "        model.add(Activation(\"relu\"))\n",
    "        model.add(MaxPooling2D(pool_size=(2,2), strides=(2,2)))\n",
    "        \n",
    "        model.add(Conv2D(50, (5, 5), padding=\"same\"))\n",
    "        model.add(Activation(\"relu\"))\n",
    "        model.add(MaxPooling2D(pool_size=(2, 2), strides=(2, 2)))\n",
    "        \n",
    "        model.add(Flatten())\n",
    "        model.add(Dense(500))\n",
    "        model.add(Activation(\"relu\"))\n",
    "        \n",
    "        model.add(Dense(classes))\n",
    "        model.add(Activation(\"softmax\"))\n",
    "        \n",
    "        return model"
   ]
  },
  {
   "cell_type": "code",
   "execution_count": 3,
   "metadata": {},
   "outputs": [],
   "source": [
    "EPOCHS = 25\n",
    "INIT_LR = 1e-3\n",
    "BS = 32"
   ]
  },
  {
   "cell_type": "code",
   "execution_count": 4,
   "metadata": {},
   "outputs": [
    {
     "name": "stdout",
     "output_type": "stream",
     "text": [
      "[INFO] loading images...\n"
     ]
    }
   ],
   "source": [
    "print(\"[INFO] loading images...\")\n",
    "data = []\n",
    "labels = []"
   ]
  },
  {
   "cell_type": "code",
   "execution_count": 5,
   "metadata": {},
   "outputs": [],
   "source": [
    "imagePaths = sorted(list(paths.list_images(\"augData\")))\n",
    "random.seed(42)\n",
    "random.shuffle(imagePaths)"
   ]
  },
  {
   "cell_type": "code",
   "execution_count": 155,
   "metadata": {},
   "outputs": [
    {
     "name": "stdout",
     "output_type": "stream",
     "text": [
      "9667\n"
     ]
    }
   ],
   "source": [
    "print(len(imagePaths))"
   ]
  },
  {
   "cell_type": "code",
   "execution_count": 6,
   "metadata": {},
   "outputs": [],
   "source": [
    "for imagePath in imagePaths:    \n",
    "    label = imagePath.split(os.path.sep)[-2]\n",
    "    \n",
    "    if label == \"triple_rider\":\n",
    "        label = 1\n",
    "        labels.append(label)\n",
    "    else:\n",
    "        label = 0\n",
    "        labels.append(label)\n",
    "    \n",
    "    image = cv2.imread(imagePath)\n",
    "    image = cv2.resize(image, (28, 28))\n",
    "    image = img_to_array(image)\n",
    "    data.append(image)\n",
    "    "
   ]
  },
  {
   "cell_type": "code",
   "execution_count": 7,
   "metadata": {},
   "outputs": [
    {
     "data": {
      "text/plain": [
       "{0: 5015, 1: 4652}"
      ]
     },
     "execution_count": 7,
     "metadata": {},
     "output_type": "execute_result"
    }
   ],
   "source": [
    "unique, counts = np.unique(np.array(labels), return_counts=True)\n",
    "dict(zip(unique, counts))"
   ]
  },
  {
   "cell_type": "code",
   "execution_count": 134,
   "metadata": {},
   "outputs": [],
   "source": [
    "data = np.array(data, dtype=\"float\") / 255.0\n",
    "labels = np.array(labels)"
   ]
  },
  {
   "cell_type": "code",
   "execution_count": 135,
   "metadata": {},
   "outputs": [],
   "source": [
    "(trainX, testX, trainY, testY) = train_test_split(data, labels, test_size=0.25, random_state=42)\n",
    "\n",
    "trainY = to_categorical(trainY, num_classes=2)\n",
    "testY = to_categorical(testY, num_classes=2)"
   ]
  },
  {
   "cell_type": "code",
   "execution_count": 136,
   "metadata": {},
   "outputs": [],
   "source": [
    "aug = ImageDataGenerator(rotation_range=30, width_shift_range=0.1,\n",
    "\theight_shift_range=0.1, shear_range=0.2, zoom_range=0.2,\n",
    "\tfill_mode=\"nearest\")"
   ]
  },
  {
   "cell_type": "code",
   "execution_count": 137,
   "metadata": {},
   "outputs": [
    {
     "name": "stdout",
     "output_type": "stream",
     "text": [
      "[INFO] compiling model...\n"
     ]
    },
    {
     "name": "stderr",
     "output_type": "stream",
     "text": [
      "/home/awiros-tech/anaconda3/envs/tripleRider/lib/python3.8/site-packages/keras/optimizer_v2/adam.py:105: UserWarning: The `lr` argument is deprecated, use `learning_rate` instead.\n",
      "  super(Adam, self).__init__(name, **kwargs)\n"
     ]
    }
   ],
   "source": [
    "print(\"[INFO] compiling model...\")\n",
    "model = modelNet.build(width=28, height=28, depth=3, classes=2)\n",
    "opt = Adam(lr=INIT_LR, decay=INIT_LR / EPOCHS)\n",
    "\n",
    "model.compile(loss=\"binary_crossentropy\", optimizer=opt,\n",
    "\tmetrics=[\"accuracy\"])"
   ]
  },
  {
   "cell_type": "code",
   "execution_count": 138,
   "metadata": {},
   "outputs": [
    {
     "name": "stdout",
     "output_type": "stream",
     "text": [
      "[INFO] training network...\n",
      "Epoch 1/25\n",
      "3/3 [==============================] - 6s 657ms/step - loss: 0.7850 - accuracy: 0.4583 - val_loss: 0.7087 - val_accuracy: 0.5312\n",
      "Epoch 2/25\n",
      "3/3 [==============================] - 1s 330ms/step - loss: 0.7280 - accuracy: 0.4167 - val_loss: 0.7178 - val_accuracy: 0.4688\n",
      "Epoch 3/25\n",
      "3/3 [==============================] - 1s 275ms/step - loss: 0.6909 - accuracy: 0.5000 - val_loss: 0.6949 - val_accuracy: 0.4688\n",
      "Epoch 4/25\n",
      "3/3 [==============================] - 1s 281ms/step - loss: 0.6814 - accuracy: 0.6042 - val_loss: 0.6933 - val_accuracy: 0.5625\n",
      "Epoch 5/25\n",
      "3/3 [==============================] - 1s 305ms/step - loss: 0.6757 - accuracy: 0.7917 - val_loss: 0.6934 - val_accuracy: 0.5000\n",
      "Epoch 6/25\n",
      "3/3 [==============================] - 1s 288ms/step - loss: 0.6621 - accuracy: 0.8125 - val_loss: 0.6955 - val_accuracy: 0.5312\n",
      "Epoch 7/25\n",
      "3/3 [==============================] - 1s 276ms/step - loss: 0.6378 - accuracy: 0.8229 - val_loss: 0.7320 - val_accuracy: 0.5000\n",
      "Epoch 8/25\n",
      "3/3 [==============================] - 1s 220ms/step - loss: 0.6105 - accuracy: 0.7708 - val_loss: 0.7289 - val_accuracy: 0.5938\n",
      "Epoch 9/25\n",
      "3/3 [==============================] - 1s 256ms/step - loss: 0.5568 - accuracy: 0.8229 - val_loss: 0.9389 - val_accuracy: 0.5312\n",
      "Epoch 10/25\n",
      "3/3 [==============================] - 1s 284ms/step - loss: 0.5043 - accuracy: 0.8021 - val_loss: 0.8433 - val_accuracy: 0.5938\n",
      "Epoch 11/25\n",
      "3/3 [==============================] - 1s 320ms/step - loss: 0.5576 - accuracy: 0.6667 - val_loss: 1.3652 - val_accuracy: 0.5312\n",
      "Epoch 12/25\n",
      "3/3 [==============================] - 1s 249ms/step - loss: 0.5528 - accuracy: 0.8229 - val_loss: 0.9889 - val_accuracy: 0.5938\n",
      "Epoch 13/25\n",
      "3/3 [==============================] - 1s 248ms/step - loss: 0.5113 - accuracy: 0.8333 - val_loss: 0.9853 - val_accuracy: 0.5938\n",
      "Epoch 14/25\n",
      "3/3 [==============================] - 1s 273ms/step - loss: 0.4942 - accuracy: 0.8333 - val_loss: 0.9504 - val_accuracy: 0.5938\n",
      "Epoch 15/25\n",
      "3/3 [==============================] - 1s 255ms/step - loss: 0.4748 - accuracy: 0.8333 - val_loss: 0.8856 - val_accuracy: 0.5938\n",
      "Epoch 16/25\n",
      "3/3 [==============================] - 1s 230ms/step - loss: 0.4831 - accuracy: 0.8229 - val_loss: 0.8842 - val_accuracy: 0.5938\n",
      "Epoch 17/25\n",
      "3/3 [==============================] - 1s 288ms/step - loss: 0.4688 - accuracy: 0.8333 - val_loss: 0.9098 - val_accuracy: 0.5938\n",
      "Epoch 18/25\n",
      "3/3 [==============================] - 1s 272ms/step - loss: 0.4747 - accuracy: 0.8229 - val_loss: 0.8417 - val_accuracy: 0.5938\n",
      "Epoch 19/25\n",
      "3/3 [==============================] - 1s 232ms/step - loss: 0.4716 - accuracy: 0.8333 - val_loss: 0.9256 - val_accuracy: 0.5938\n",
      "Epoch 20/25\n",
      "3/3 [==============================] - 1s 317ms/step - loss: 0.4722 - accuracy: 0.8229 - val_loss: 0.8456 - val_accuracy: 0.5938\n",
      "Epoch 21/25\n",
      "3/3 [==============================] - 1s 248ms/step - loss: 0.4684 - accuracy: 0.8125 - val_loss: 0.8912 - val_accuracy: 0.5938\n",
      "Epoch 22/25\n",
      "3/3 [==============================] - 1s 269ms/step - loss: 0.4689 - accuracy: 0.8229 - val_loss: 0.8516 - val_accuracy: 0.5938\n",
      "Epoch 23/25\n",
      "3/3 [==============================] - 1s 198ms/step - loss: 0.4657 - accuracy: 0.8125 - val_loss: 0.9706 - val_accuracy: 0.5312\n",
      "Epoch 24/25\n",
      "3/3 [==============================] - 1s 263ms/step - loss: 0.4243 - accuracy: 0.8438 - val_loss: 0.7402 - val_accuracy: 0.6250\n",
      "Epoch 25/25\n",
      "3/3 [==============================] - 1s 293ms/step - loss: 0.4622 - accuracy: 0.7917 - val_loss: 0.8141 - val_accuracy: 0.5938\n",
      "[INFO] serializing network...\n"
     ]
    }
   ],
   "source": [
    "print(\"[INFO] training network...\")\n",
    "H = model.fit(x=aug.flow(trainX, trainY, batch_size=BS),\n",
    "\tvalidation_data=(testX, testY), steps_per_epoch=len(trainX) // BS,\n",
    "\tepochs=EPOCHS, verbose=1)\n",
    "# save the model to disk\n",
    "print(\"[INFO] serializing network...\")\n",
    "model.save(\"model_1.h5\", save_format=\"h5\")"
   ]
  },
  {
   "cell_type": "code",
   "execution_count": 139,
   "metadata": {},
   "outputs": [],
   "source": [
    "plt.style.use(\"ggplot\")\n",
    "plt.figure()\n",
    "N = EPOCHS\n",
    "plt.plot(np.arange(0, N), H.history[\"loss\"], label=\"train_loss\")\n",
    "plt.plot(np.arange(0, N), H.history[\"val_loss\"], label=\"val_loss\")\n",
    "plt.plot(np.arange(0, N), H.history[\"accuracy\"], label=\"train_acc\")\n",
    "plt.plot(np.arange(0, N), H.history[\"val_accuracy\"], label=\"val_acc\")\n",
    "plt.title(\"Training Loss and Accuracy on Santa/Not Santa\")\n",
    "plt.xlabel(\"Epoch #\")\n",
    "plt.ylabel(\"Loss/Accuracy\")\n",
    "plt.legend(loc=\"lower left\")\n",
    "plt.savefig(\"plot.png\")"
   ]
  },
  {
   "cell_type": "code",
   "execution_count": 140,
   "metadata": {},
   "outputs": [
    {
     "name": "stdout",
     "output_type": "stream",
     "text": [
      "(32, 2)\n"
     ]
    }
   ],
   "source": [
    "predictions = model.predict(x=testX, batch_size=32)\n",
    "\n",
    "print(predictions.shape)"
   ]
  },
  {
   "cell_type": "code",
   "execution_count": 141,
   "metadata": {},
   "outputs": [
    {
     "name": "stdout",
     "output_type": "stream",
     "text": [
      "              precision    recall  f1-score   support\n",
      "\n",
      "triple_rider       0.67      0.47      0.55        17\n",
      "double rider       0.55      0.73      0.63        15\n",
      "\n",
      "    accuracy                           0.59        32\n",
      "   macro avg       0.61      0.60      0.59        32\n",
      "weighted avg       0.61      0.59      0.59        32\n",
      "\n"
     ]
    }
   ],
   "source": [
    "print(classification_report(testY.argmax(axis=1),\n",
    "\tpredictions.argmax(axis=1), target_names=[\"triple_rider\",\"double rider\"]))"
   ]
  }
 ],
 "metadata": {
  "interpreter": {
   "hash": "4d1099e7dbe4b62249051d2b6a85870902eeb6ff5afbe2c11682c0cafad43d6e"
  },
  "kernelspec": {
   "display_name": "Python 3.8.13 ('tripleRider')",
   "language": "python",
   "name": "python3"
  },
  "language_info": {
   "codemirror_mode": {
    "name": "ipython",
    "version": 3
   },
   "file_extension": ".py",
   "mimetype": "text/x-python",
   "name": "python",
   "nbconvert_exporter": "python",
   "pygments_lexer": "ipython3",
   "version": "3.8.13"
  },
  "orig_nbformat": 4
 },
 "nbformat": 4,
 "nbformat_minor": 2
}
