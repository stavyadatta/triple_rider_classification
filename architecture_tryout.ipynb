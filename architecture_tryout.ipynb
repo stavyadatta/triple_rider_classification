{
 "cells": [
  {
   "cell_type": "code",
   "execution_count": 90,
   "metadata": {},
   "outputs": [],
   "source": [
    "import matplotlib\n",
    "matplotlib.use(\"Agg\")\n",
    "\n",
    "# import the necessary packages\n",
    "from sklearn.preprocessing import LabelBinarizer\n",
    "from sklearn.model_selection import train_test_split\n",
    "from sklearn.metrics import classification_report\n",
    "from tensorflow.keras.models import Sequential\n",
    "from tensorflow.keras.preprocessing.image import ImageDataGenerator\n",
    "from tensorflow.keras.layers import Conv2D, MaxPooling2D, Activation, Flatten, Dense\n",
    "from tensorflow.keras import backend as K\n",
    "from tensorflow.keras.layers import Dense\n",
    "from tensorflow.keras.preprocessing.image import img_to_array\n",
    "from tensorflow.keras.utils import to_categorical\n",
    "from tensorflow.keras.optimizers import SGD\n",
    "from tensorflow.keras.optimizers import Adam\n",
    "from imutils import paths\n",
    "\n",
    "import matplotlib.pyplot as plt\n",
    "import numpy as np\n",
    "import argparse\n",
    "import random\n",
    "import pickle\n",
    "import cv2\n",
    "import os"
   ]
  },
  {
   "cell_type": "code",
   "execution_count": 91,
   "metadata": {},
   "outputs": [],
   "source": [
    "class modelNet:\n",
    "    @staticmethod\n",
    "    def LeNet(width, height, depth, classes):\n",
    "        model = Sequential()\n",
    "        inputShape = (height, width, depth)\n",
    "        \n",
    "        model.add(Conv2D(8, (5, 5), padding=\"same\", input_shape=inputShape))\n",
    "        model.add(Activation(\"relu\"))\n",
    "        model.add(MaxPooling2D(pool_size=(2,2), strides=(2,2)))\n",
    "        \n",
    "        model.add(Conv2D(16, (5, 5), padding=\"same\"))\n",
    "        model.add(Activation(\"relu\"))\n",
    "        model.add(MaxPooling2D(pool_size=(2, 2), strides=(2, 2)))\n",
    "        \n",
    "        model.add(Flatten())\n",
    "        model.add(Dense(100))\n",
    "        model.add(Activation(\"relu\"))\n",
    "        \n",
    "        model.add(Dense(classes))\n",
    "        model.add(Activation(\"softmax\"))\n",
    "        \n",
    "        return model\n",
    "    \n",
    "    @staticmethod\n",
    "    def VGG16(classes):\n",
    "        # initializing the model\n",
    "        model = Sequential()\n",
    "        \n",
    "        \n",
    "        model.add(Conv2D(input_shape=(224,224,3),filters=64,kernel_size=(3,3),padding=\"same\", activation=\"relu\"))\n",
    "        model.add(Conv2D(filters=64,kernel_size=(3,3),padding=\"same\", activation=\"relu\"))\n",
    "        \n",
    "        model.add(MaxPool2D(pool_size=(2,2),strides=(2,2)))\n",
    "        \n",
    "        model.add(Conv2D(filters=128, kernel_size=(3,3), padding=\"same\", activation=\"relu\"))\n",
    "        model.add(Conv2D(filters=128, kernel_size=(3,3), padding=\"same\", activation=\"relu\"))\n",
    "        \n",
    "        model.add(MaxPool2D(pool_size=(2,2),strides=(2,2)))\n",
    "        model.add(Conv2D(filters=256, kernel_size=(3,3), padding=\"same\", activation=\"relu\"))\n",
    "        \n",
    "        model.add(Conv2D(filters=256, kernel_size=(3,3), padding=\"same\", activation=\"relu\"))\n",
    "        \n",
    "        model.add(Conv2D(filters=256, kernel_size=(3,3), padding=\"same\", activation=\"relu\"))\n",
    "        model.add(MaxPool2D(pool_size=(2,2),strides=(2,2)))\n",
    "        \n",
    "        model.add(Conv2D(filters=512, kernel_size=(3,3), padding=\"same\", activation=\"relu\"))\n",
    "        model.add(Conv2D(filters=512, kernel_size=(3,3), padding=\"same\", activation=\"relu\"))\n",
    "        \n",
    "        model.add(Conv2D(filters=512, kernel_size=(3,3), padding=\"same\", activation=\"relu\"))\n",
    "        \n",
    "        model.add(MaxPool2D(pool_size=(2,2),strides=(2,2)))\n",
    "        \n",
    "        model.add(Conv2D(filters=512, kernel_size=(3,3), padding=\"same\", activation=\"relu\"))\n",
    "        \n",
    "        model.add(Conv2D(filters=512, kernel_size=(3,3), padding=\"same\", activation=\"relu\"))\n",
    "        \n",
    "        model.add(Conv2D(filters=512, kernel_size=(3,3), padding=\"same\", activation=\"relu\"))\n",
    "        \n",
    "        model.add(MaxPool2D(pool_size=(2,2),strides=(2,2)))\n",
    "        \n",
    "        model.add(Flatten())\n",
    "        model.add(Dense(units=4096,activation=\"relu\"))\n",
    "        model.add(Dense(units=4096,activation=\"relu\"))\n",
    "        \n",
    "        model.add(Dense(units=classes, activation=\"softmax\"))\n",
    "    "
   ]
  },
  {
   "cell_type": "code",
   "execution_count": 92,
   "metadata": {},
   "outputs": [],
   "source": [
    "EPOCHS = 15\n",
    "INIT_LR = 1e-3\n",
    "BS = 64\n",
    "CLASSES = 3"
   ]
  },
  {
   "cell_type": "code",
   "execution_count": 93,
   "metadata": {},
   "outputs": [
    {
     "name": "stdout",
     "output_type": "stream",
     "text": [
      "[INFO] loading images...\n"
     ]
    }
   ],
   "source": [
    "print(\"[INFO] loading images...\")\n",
    "data = []\n",
    "labels = []"
   ]
  },
  {
   "cell_type": "code",
   "execution_count": 94,
   "metadata": {},
   "outputs": [],
   "source": [
    "imagePaths = sorted(list(paths.list_images(\"augData/trialDataset\")))\n",
    "random.seed(42)\n",
    "random.shuffle(imagePaths)"
   ]
  },
  {
   "cell_type": "code",
   "execution_count": 95,
   "metadata": {},
   "outputs": [],
   "source": [
    "for imagePath in imagePaths:    \n",
    "    label = imagePath.split(os.path.sep)[-2]\n",
    "    labels.append(label)\n",
    "    \n",
    "    image = cv2.imread(imagePath)\n",
    "    image = cv2.resize(image, (28, 28))\n",
    "    image = img_to_array(image)\n",
    "    data.append(image)\n",
    "    "
   ]
  },
  {
   "cell_type": "code",
   "execution_count": 96,
   "metadata": {},
   "outputs": [
    {
     "data": {
      "text/plain": [
       "{'double_person': 947, 'single_person': 963, 'triple_person_3': 612}"
      ]
     },
     "execution_count": 96,
     "metadata": {},
     "output_type": "execute_result"
    }
   ],
   "source": [
    "unique, counts = np.unique(np.array(labels), return_counts=True)\n",
    "dict(zip(unique, counts))"
   ]
  },
  {
   "cell_type": "code",
   "execution_count": 97,
   "metadata": {},
   "outputs": [],
   "source": [
    "data = np.array(data, dtype=\"float\") / 255.0\n",
    "labels = np.array(labels)"
   ]
  },
  {
   "cell_type": "code",
   "execution_count": 98,
   "metadata": {},
   "outputs": [],
   "source": [
    "(trainX, testX, trainY, testY) = train_test_split(data, labels, test_size=0.25, random_state=42)\n",
    "\n",
    "lb = LabelBinarizer()\n",
    "trainY = lb.fit_transform(trainY)\n",
    "testY = lb.transform(testY)"
   ]
  },
  {
   "cell_type": "code",
   "execution_count": 99,
   "metadata": {},
   "outputs": [
    {
     "name": "stdout",
     "output_type": "stream",
     "text": [
      "[INFO] compiling model...\n"
     ]
    },
    {
     "name": "stderr",
     "output_type": "stream",
     "text": [
      "/home/awiros-tech/anaconda3/envs/tripleRider/lib/python3.8/site-packages/keras/optimizer_v2/adam.py:105: UserWarning: The `lr` argument is deprecated, use `learning_rate` instead.\n",
      "  super(Adam, self).__init__(name, **kwargs)\n"
     ]
    }
   ],
   "source": [
    "print(\"[INFO] compiling model...\")\n",
    "model = modelNet.LeNet(width=28, height=28, depth=3, classes=CLASSES)\n",
    "opt = Adam(lr=INIT_LR, decay=INIT_LR / EPOCHS)\n",
    "\n",
    "model.compile(loss=\"categorical_crossentropy\", optimizer=opt,\n",
    "\tmetrics=[\"accuracy\"])"
   ]
  },
  {
   "cell_type": "code",
   "execution_count": 100,
   "metadata": {},
   "outputs": [
    {
     "name": "stdout",
     "output_type": "stream",
     "text": [
      "Model: \"sequential_4\"\n",
      "_________________________________________________________________\n",
      " Layer (type)                Output Shape              Param #   \n",
      "=================================================================\n",
      " conv2d_8 (Conv2D)           (None, 28, 28, 8)         608       \n",
      "                                                                 \n",
      " activation_16 (Activation)  (None, 28, 28, 8)         0         \n",
      "                                                                 \n",
      " max_pooling2d_8 (MaxPooling  (None, 14, 14, 8)        0         \n",
      " 2D)                                                             \n",
      "                                                                 \n",
      " conv2d_9 (Conv2D)           (None, 14, 14, 16)        3216      \n",
      "                                                                 \n",
      " activation_17 (Activation)  (None, 14, 14, 16)        0         \n",
      "                                                                 \n",
      " max_pooling2d_9 (MaxPooling  (None, 7, 7, 16)         0         \n",
      " 2D)                                                             \n",
      "                                                                 \n",
      " flatten_4 (Flatten)         (None, 784)               0         \n",
      "                                                                 \n",
      " dense_8 (Dense)             (None, 100)               78500     \n",
      "                                                                 \n",
      " activation_18 (Activation)  (None, 100)               0         \n",
      "                                                                 \n",
      " dense_9 (Dense)             (None, 3)                 303       \n",
      "                                                                 \n",
      " activation_19 (Activation)  (None, 3)                 0         \n",
      "                                                                 \n",
      "=================================================================\n",
      "Total params: 82,627\n",
      "Trainable params: 82,627\n",
      "Non-trainable params: 0\n",
      "_________________________________________________________________\n"
     ]
    }
   ],
   "source": [
    "model.summary()"
   ]
  },
  {
   "cell_type": "code",
   "execution_count": 101,
   "metadata": {},
   "outputs": [
    {
     "name": "stdout",
     "output_type": "stream",
     "text": [
      "[INFO] training network...\n",
      "Epoch 1/15\n",
      "29/29 [==============================] - 5s 137ms/step - loss: 0.9342 - accuracy: 0.5210 - val_loss: 0.8038 - val_accuracy: 0.6006\n",
      "Epoch 2/15\n",
      "29/29 [==============================] - 2s 77ms/step - loss: 0.7206 - accuracy: 0.6612 - val_loss: 0.7406 - val_accuracy: 0.6070\n",
      "Epoch 3/15\n",
      "29/29 [==============================] - 2s 86ms/step - loss: 0.6286 - accuracy: 0.7132 - val_loss: 0.6568 - val_accuracy: 0.6640\n",
      "Epoch 4/15\n",
      "29/29 [==============================] - 3s 114ms/step - loss: 0.5889 - accuracy: 0.7334 - val_loss: 0.6038 - val_accuracy: 0.6941\n",
      "Epoch 5/15\n",
      "29/29 [==============================] - 3s 114ms/step - loss: 0.5660 - accuracy: 0.7258 - val_loss: 0.5643 - val_accuracy: 0.7195\n",
      "Epoch 6/15\n",
      "29/29 [==============================] - 3s 111ms/step - loss: 0.5423 - accuracy: 0.7603 - val_loss: 0.5852 - val_accuracy: 0.7163\n",
      "Epoch 7/15\n",
      "29/29 [==============================] - 3s 115ms/step - loss: 0.5129 - accuracy: 0.7690 - val_loss: 0.5858 - val_accuracy: 0.7369\n",
      "Epoch 8/15\n",
      "29/29 [==============================] - 3s 116ms/step - loss: 0.5110 - accuracy: 0.7679 - val_loss: 0.5341 - val_accuracy: 0.7670\n",
      "Epoch 9/15\n",
      "29/29 [==============================] - 3s 112ms/step - loss: 0.4543 - accuracy: 0.7953 - val_loss: 0.5294 - val_accuracy: 0.7639\n",
      "Epoch 10/15\n",
      "29/29 [==============================] - 3s 114ms/step - loss: 0.4636 - accuracy: 0.7931 - val_loss: 0.5366 - val_accuracy: 0.7385\n",
      "Epoch 11/15\n",
      "29/29 [==============================] - 3s 116ms/step - loss: 0.4337 - accuracy: 0.8112 - val_loss: 0.5366 - val_accuracy: 0.7670\n",
      "Epoch 12/15\n",
      "29/29 [==============================] - 4s 137ms/step - loss: 0.4149 - accuracy: 0.8281 - val_loss: 0.4976 - val_accuracy: 0.7892\n",
      "Epoch 13/15\n",
      "29/29 [==============================] - 3s 120ms/step - loss: 0.3840 - accuracy: 0.8407 - val_loss: 0.4912 - val_accuracy: 0.7813\n",
      "Epoch 14/15\n",
      "29/29 [==============================] - 3s 116ms/step - loss: 0.3588 - accuracy: 0.8544 - val_loss: 0.4842 - val_accuracy: 0.7861\n",
      "Epoch 15/15\n",
      "29/29 [==============================] - 3s 116ms/step - loss: 0.3921 - accuracy: 0.8402 - val_loss: 0.4930 - val_accuracy: 0.7797\n",
      "[INFO] serializing network...\n"
     ]
    }
   ],
   "source": [
    "print(\"[INFO] training network...\")\n",
    "H = model.fit(trainX, trainY, batch_size=BS,\n",
    "    validation_data=(testX, testY),\n",
    "\tsteps_per_epoch=len(trainX) // BS,\n",
    "\tepochs=EPOCHS, verbose=1)\n",
    "# save the model to disk\n",
    "print(\"[INFO] serializing network...\")\n",
    "model.save(\"model_1.h5\", save_format=\"h5\")"
   ]
  },
  {
   "cell_type": "code",
   "execution_count": 102,
   "metadata": {},
   "outputs": [],
   "source": [
    "plt.style.use(\"ggplot\")\n",
    "plt.figure()\n",
    "N = EPOCHS\n",
    "plt.plot(np.arange(0, N), H.history[\"loss\"], label=\"train_loss\")\n",
    "plt.plot(np.arange(0, N), H.history[\"accuracy\"], label=\"train_acc\")\n",
    "plt.plot(np.arange(0, N), H.history[\"val_loss\"], label=\"val_loss\")\n",
    "plt.plot(np.arange(0, N), H.history[\"val_accuracy\"], label=\"val_accuracy\")\n",
    "plt.title(\"Training Loss and Accuracy on Double and triple rider\")\n",
    "plt.xlabel(\"Epoch #\")\n",
    "plt.ylabel(\"Loss/Accuracy\")\n",
    "plt.legend(loc=\"lower left\")\n",
    "plt.savefig(\"plot_multi_class_4.png\")"
   ]
  },
  {
   "cell_type": "code",
   "execution_count": 103,
   "metadata": {},
   "outputs": [
    {
     "name": "stdout",
     "output_type": "stream",
     "text": [
      "(631, 3)\n"
     ]
    }
   ],
   "source": [
    "predictions = model.predict(x=testX, batch_size=32)\n",
    "\n",
    "print(predictions.shape)"
   ]
  },
  {
   "cell_type": "code",
   "execution_count": 104,
   "metadata": {},
   "outputs": [
    {
     "data": {
      "text/plain": [
       "array([[6.9754297e-01, 2.9562002e-01, 6.8370001e-03],\n",
       "       [4.4647187e-01, 5.0756234e-01, 4.5965761e-02],\n",
       "       [9.4758216e-03, 8.4498766e-05, 9.9043965e-01],\n",
       "       ...,\n",
       "       [2.5694194e-01, 7.3301589e-01, 1.0042241e-02],\n",
       "       [1.7739239e-01, 8.1582993e-01, 6.7776656e-03],\n",
       "       [7.3558606e-02, 9.2508733e-01, 1.3539516e-03]], dtype=float32)"
      ]
     },
     "execution_count": 104,
     "metadata": {},
     "output_type": "execute_result"
    }
   ],
   "source": [
    "predictions"
   ]
  },
  {
   "cell_type": "code",
   "execution_count": 105,
   "metadata": {},
   "outputs": [
    {
     "name": "stdout",
     "output_type": "stream",
     "text": [
      "                 precision    recall  f1-score   support\n",
      "\n",
      "  double_person       0.75      0.69      0.72       251\n",
      "  single_person       0.74      0.87      0.80       239\n",
      "triple_person_3       0.94      0.79      0.86       141\n",
      "\n",
      "       accuracy                           0.78       631\n",
      "      macro avg       0.81      0.78      0.79       631\n",
      "   weighted avg       0.79      0.78      0.78       631\n",
      "\n"
     ]
    }
   ],
   "source": [
    "print(classification_report(testY.argmax(axis=1),predictions.argmax(axis=1),target_names=lb.classes_))"
   ]
  },
  {
   "cell_type": "markdown",
   "metadata": {},
   "source": [
    "### Trying out test set with 3 classification"
   ]
  },
  {
   "cell_type": "code",
   "execution_count": 106,
   "metadata": {},
   "outputs": [],
   "source": [
    "test_imagepaths = sorted(list(paths.list_images(\"testSet\")))\n",
    "random.seed(42)\n",
    "random.shuffle(test_imagepaths)"
   ]
  },
  {
   "cell_type": "code",
   "execution_count": 107,
   "metadata": {},
   "outputs": [],
   "source": [
    "test_labels = []\n",
    "test_data = []\n",
    "for imagePath in test_imagepaths:    \n",
    "    label = imagePath.split(os.path.sep)[-2]\n",
    "    test_labels.append(label)\n",
    "    \n",
    "    image = cv2.imread(imagePath)\n",
    "    image = cv2.resize(image, (28, 28))\n",
    "    image = img_to_array(image)\n",
    "    test_data.append(image)\n",
    "\n",
    "test_labels = np.array(test_labels)\n",
    "test_data = np.array(test_data, dtype=\"float\") / 255.0\n"
   ]
  },
  {
   "cell_type": "code",
   "execution_count": 108,
   "metadata": {},
   "outputs": [],
   "source": [
    "lb = LabelBinarizer()\n",
    "test_labels = lb.fit_transform(test_labels)"
   ]
  },
  {
   "cell_type": "code",
   "execution_count": 109,
   "metadata": {},
   "outputs": [
    {
     "name": "stdout",
     "output_type": "stream",
     "text": [
      "(221, 3)\n"
     ]
    }
   ],
   "source": [
    "test_predictions = model.predict(x=test_data, batch_size=32)\n",
    "\n",
    "print(test_predictions.shape)"
   ]
  },
  {
   "cell_type": "code",
   "execution_count": 110,
   "metadata": {},
   "outputs": [
    {
     "data": {
      "text/plain": [
       "array([0, 0, 2, 2, 0, 0, 0, 0, 2, 1, 2, 0, 1, 0, 1, 0, 0, 2, 2, 2, 2, 0,\n",
       "       0, 1, 0, 2, 0, 0, 0, 0, 0, 0, 0, 2, 1, 1, 1, 0, 2, 0, 0, 0, 1, 0,\n",
       "       1, 1, 0, 1, 2, 2, 0, 1, 1, 2, 0, 2, 0, 0, 0, 0, 0, 0, 2, 0, 1, 1,\n",
       "       0, 0, 0, 1, 1, 1, 1, 1, 0, 0, 0, 1, 2, 0, 0, 0, 1, 1, 2, 1, 0, 1,\n",
       "       1, 0, 2, 0, 1, 0, 0, 0, 2, 1, 0, 2, 1, 0, 0, 1, 1, 1, 2, 0, 1, 2,\n",
       "       0, 0, 0, 2, 1, 1, 0, 0, 1, 0, 1, 2, 0, 2, 2, 0, 1, 2, 0, 0, 0, 0,\n",
       "       0, 1, 0, 1, 0, 1, 2, 2, 2, 0, 1, 1, 2, 1, 1, 2, 0, 0, 2, 0, 1, 2,\n",
       "       0, 2, 0, 1, 0, 0, 0, 2, 1, 0, 2, 0, 2, 0, 2, 0, 0, 1, 0, 0, 1, 0,\n",
       "       0, 0, 0, 0, 0, 1, 0, 0, 2, 0, 0, 0, 1, 0, 1, 0, 0, 0, 0, 1, 0, 0,\n",
       "       0, 1, 0, 2, 2, 0, 1, 0, 0, 2, 1, 0, 0, 0, 0, 0, 0, 1, 0, 0, 2, 1,\n",
       "       0])"
      ]
     },
     "execution_count": 110,
     "metadata": {},
     "output_type": "execute_result"
    }
   ],
   "source": [
    "test_predictions.argmax(axis=1)"
   ]
  },
  {
   "cell_type": "code",
   "execution_count": 111,
   "metadata": {},
   "outputs": [
    {
     "name": "stdout",
     "output_type": "stream",
     "text": [
      "               precision    recall  f1-score   support\n",
      "\n",
      "double_person       0.26      0.40      0.32        78\n",
      "single_person       0.75      0.55      0.63        80\n",
      "triple_person       0.20      0.14      0.17        63\n",
      "\n",
      "     accuracy                           0.38       221\n",
      "    macro avg       0.40      0.36      0.37       221\n",
      " weighted avg       0.42      0.38      0.39       221\n",
      "\n"
     ]
    }
   ],
   "source": [
    "print(classification_report(test_labels.argmax(axis=1),test_predictions.argmax(axis=1),target_names=lb.classes_))"
   ]
  }
 ],
 "metadata": {
  "interpreter": {
   "hash": "4d1099e7dbe4b62249051d2b6a85870902eeb6ff5afbe2c11682c0cafad43d6e"
  },
  "kernelspec": {
   "display_name": "Python 3.8.13 ('tripleRider')",
   "language": "python",
   "name": "python3"
  },
  "language_info": {
   "codemirror_mode": {
    "name": "ipython",
    "version": 3
   },
   "file_extension": ".py",
   "mimetype": "text/x-python",
   "name": "python",
   "nbconvert_exporter": "python",
   "pygments_lexer": "ipython3",
   "version": "3.8.13"
  },
  "orig_nbformat": 4
 },
 "nbformat": 4,
 "nbformat_minor": 2
}
