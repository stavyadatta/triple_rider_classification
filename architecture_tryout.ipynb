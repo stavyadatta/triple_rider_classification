{
 "cells": [
  {
   "cell_type": "code",
   "execution_count": 111,
   "metadata": {},
   "outputs": [],
   "source": [
    "import matplotlib\n",
    "matplotlib.use(\"Agg\")\n",
    "\n",
    "# import the necessary packages\n",
    "from sklearn.preprocessing import LabelBinarizer\n",
    "from sklearn.model_selection import train_test_split\n",
    "from sklearn.metrics import classification_report\n",
    "from tensorflow.keras.models import Sequential\n",
    "from tensorflow.keras.preprocessing.image import ImageDataGenerator\n",
    "from tensorflow.keras.layers import Conv2D, MaxPooling2D, Activation, Flatten, Dense\n",
    "from tensorflow.keras import backend as K\n",
    "from tensorflow.keras.layers import Dense\n",
    "from tensorflow.keras.preprocessing.image import img_to_array\n",
    "from tensorflow.keras.utils import to_categorical\n",
    "from tensorflow.keras.optimizers import SGD\n",
    "from tensorflow.keras.optimizers import Adam\n",
    "from imutils import paths\n",
    "\n",
    "import matplotlib.pyplot as plt\n",
    "import numpy as np\n",
    "import argparse\n",
    "import random\n",
    "import pickle\n",
    "import cv2\n",
    "import os"
   ]
  },
  {
   "cell_type": "code",
   "execution_count": 112,
   "metadata": {},
   "outputs": [],
   "source": [
    "class LeNet:\n",
    "    @staticmethod\n",
    "    def build(width, height, depth, classes):\n",
    "        model = Sequential()\n",
    "        inputShape = (height, width, depth)\n",
    "        \n",
    "        model.add(Conv2D(20, (5, 5), padding=\"same\", input_shape=inputShape))\n",
    "        model.add(Activation(\"relu\"))\n",
    "        model.add(MaxPooling2D(pool_size=(2,2), strides=(2,2)))\n",
    "        \n",
    "        model.add(Conv2D(50, (5, 5), padding=\"same\"))\n",
    "        model.add(Activation(\"relu\"))\n",
    "        model.add(MaxPooling2D(pool_size=(2, 2), strides=(2, 2)))\n",
    "        \n",
    "        model.add(Flatten())\n",
    "        model.add(Dense(500))\n",
    "        model.add(Activation(\"relu\"))\n",
    "        \n",
    "        model.add(Dense(classes))\n",
    "        model.add(Activation(\"softmax\"))\n",
    "        \n",
    "        return model"
   ]
  },
  {
   "cell_type": "code",
   "execution_count": 113,
   "metadata": {},
   "outputs": [],
   "source": [
    "EPOCHS = 25\n",
    "INIT_LR = 1e-3\n",
    "BS = 32"
   ]
  },
  {
   "cell_type": "code",
   "execution_count": 114,
   "metadata": {},
   "outputs": [
    {
     "name": "stdout",
     "output_type": "stream",
     "text": [
      "[INFO] loading images...\n"
     ]
    }
   ],
   "source": [
    "print(\"[INFO] loading images...\")\n",
    "data = []\n",
    "labels = []"
   ]
  },
  {
   "cell_type": "code",
   "execution_count": 115,
   "metadata": {},
   "outputs": [],
   "source": [
    "imagePaths = sorted(list(paths.list_images(\"Dataset\")))\n",
    "random.seed(42)\n",
    "random.shuffle(imagePaths)"
   ]
  },
  {
   "cell_type": "code",
   "execution_count": 116,
   "metadata": {},
   "outputs": [],
   "source": [
    "double_rider = 0\n",
    "total_double_rider = 65\n",
    "for imagePath in imagePaths:    \n",
    "    label = imagePath.split(os.path.sep)[-2]\n",
    "    \n",
    "    if label == \"triple_person\":\n",
    "        label = 1\n",
    "        labels.append(label)\n",
    "    else:\n",
    "        if double_rider < total_double_rider:\n",
    "            label = 0\n",
    "            labels.append(label)\n",
    "            double_rider += 1\n",
    "        else:\n",
    "            continue\n",
    "    \n",
    "    \n",
    "    image = cv2.imread(imagePath)\n",
    "    image = cv2.resize(image, (28, 28))\n",
    "    image = img_to_array(image)\n",
    "    data.append(image)\n",
    "    "
   ]
  },
  {
   "cell_type": "code",
   "execution_count": 118,
   "metadata": {},
   "outputs": [
    {
     "data": {
      "text/plain": [
       "{0: 65, 1: 63}"
      ]
     },
     "execution_count": 118,
     "metadata": {},
     "output_type": "execute_result"
    }
   ],
   "source": [
    "unique, counts = np.unique(np.array(labels), return_counts=True)\n",
    "dict(zip(unique, counts))"
   ]
  },
  {
   "cell_type": "code",
   "execution_count": 119,
   "metadata": {},
   "outputs": [],
   "source": [
    "data = np.array(data, dtype=\"float\") / 255.0\n",
    "labels = np.array(labels)"
   ]
  },
  {
   "cell_type": "code",
   "execution_count": 120,
   "metadata": {},
   "outputs": [],
   "source": [
    "(trainX, testX, trainY, testY) = train_test_split(data, labels, test_size=0.25, random_state=42)\n",
    "\n",
    "trainY = to_categorical(trainY, num_classes=2)\n",
    "testY = to_categorical(testY, num_classes=2)"
   ]
  },
  {
   "cell_type": "code",
   "execution_count": 121,
   "metadata": {},
   "outputs": [],
   "source": [
    "aug = ImageDataGenerator(rotation_range=30, width_shift_range=0.1,\n",
    "\theight_shift_range=0.1, shear_range=0.2, zoom_range=0.2,\n",
    "\thorizontal_flip=True, fill_mode=\"nearest\")"
   ]
  },
  {
   "cell_type": "code",
   "execution_count": 122,
   "metadata": {},
   "outputs": [
    {
     "name": "stdout",
     "output_type": "stream",
     "text": [
      "[INFO] compiling model...\n"
     ]
    },
    {
     "name": "stderr",
     "output_type": "stream",
     "text": [
      "/home/awiros-tech/anaconda3/envs/tripleRider/lib/python3.8/site-packages/keras/optimizer_v2/adam.py:105: UserWarning: The `lr` argument is deprecated, use `learning_rate` instead.\n",
      "  super(Adam, self).__init__(name, **kwargs)\n"
     ]
    }
   ],
   "source": [
    "print(\"[INFO] compiling model...\")\n",
    "model = LeNet.build(width=28, height=28, depth=3, classes=2)\n",
    "opt = Adam(lr=INIT_LR, decay=INIT_LR / EPOCHS)\n",
    "\n",
    "model.compile(loss=\"binary_crossentropy\", optimizer=opt,\n",
    "\tmetrics=[\"accuracy\"])"
   ]
  },
  {
   "cell_type": "code",
   "execution_count": 123,
   "metadata": {},
   "outputs": [
    {
     "name": "stdout",
     "output_type": "stream",
     "text": [
      "[INFO] training network...\n",
      "Epoch 1/25\n",
      "3/3 [==============================] - 3s 667ms/step - loss: 0.7555 - accuracy: 0.5104 - val_loss: 0.7560 - val_accuracy: 0.5312\n",
      "Epoch 2/25\n",
      "3/3 [==============================] - 1s 238ms/step - loss: 0.6956 - accuracy: 0.5000 - val_loss: 0.6794 - val_accuracy: 0.5312\n",
      "Epoch 3/25\n",
      "3/3 [==============================] - 1s 214ms/step - loss: 0.6574 - accuracy: 0.5833 - val_loss: 0.6813 - val_accuracy: 0.5938\n",
      "Epoch 4/25\n",
      "3/3 [==============================] - 1s 218ms/step - loss: 0.6491 - accuracy: 0.7188 - val_loss: 0.6673 - val_accuracy: 0.6250\n",
      "Epoch 5/25\n",
      "3/3 [==============================] - 1s 187ms/step - loss: 0.6023 - accuracy: 0.7812 - val_loss: 0.6809 - val_accuracy: 0.5938\n",
      "Epoch 6/25\n",
      "3/3 [==============================] - 1s 176ms/step - loss: 0.5547 - accuracy: 0.8021 - val_loss: 0.7667 - val_accuracy: 0.5625\n",
      "Epoch 7/25\n",
      "3/3 [==============================] - 1s 229ms/step - loss: 0.5081 - accuracy: 0.8229 - val_loss: 0.8218 - val_accuracy: 0.5938\n",
      "Epoch 8/25\n",
      "3/3 [==============================] - 1s 197ms/step - loss: 0.5591 - accuracy: 0.7812 - val_loss: 0.9527 - val_accuracy: 0.5938\n",
      "Epoch 9/25\n",
      "3/3 [==============================] - 1s 238ms/step - loss: 0.5579 - accuracy: 0.7396 - val_loss: 0.9539 - val_accuracy: 0.5938\n",
      "Epoch 10/25\n",
      "3/3 [==============================] - 1s 225ms/step - loss: 0.5277 - accuracy: 0.8125 - val_loss: 0.9087 - val_accuracy: 0.5625\n",
      "Epoch 11/25\n",
      "3/3 [==============================] - 1s 185ms/step - loss: 0.5067 - accuracy: 0.8229 - val_loss: 0.8299 - val_accuracy: 0.5938\n",
      "Epoch 12/25\n",
      "3/3 [==============================] - 1s 213ms/step - loss: 0.5140 - accuracy: 0.8021 - val_loss: 0.8432 - val_accuracy: 0.5938\n",
      "Epoch 13/25\n",
      "3/3 [==============================] - 1s 184ms/step - loss: 0.4897 - accuracy: 0.8333 - val_loss: 0.8262 - val_accuracy: 0.5938\n",
      "Epoch 14/25\n",
      "3/3 [==============================] - 1s 201ms/step - loss: 0.4902 - accuracy: 0.8438 - val_loss: 0.8247 - val_accuracy: 0.5938\n",
      "Epoch 15/25\n",
      "3/3 [==============================] - 1s 218ms/step - loss: 0.5062 - accuracy: 0.8229 - val_loss: 0.8933 - val_accuracy: 0.5938\n",
      "Epoch 16/25\n",
      "3/3 [==============================] - 1s 208ms/step - loss: 0.4909 - accuracy: 0.8229 - val_loss: 0.8436 - val_accuracy: 0.5938\n",
      "Epoch 17/25\n",
      "3/3 [==============================] - 1s 218ms/step - loss: 0.4789 - accuracy: 0.8229 - val_loss: 0.8702 - val_accuracy: 0.5938\n",
      "Epoch 18/25\n",
      "3/3 [==============================] - 1s 186ms/step - loss: 0.4922 - accuracy: 0.8229 - val_loss: 0.8201 - val_accuracy: 0.5938\n",
      "Epoch 19/25\n",
      "3/3 [==============================] - 1s 218ms/step - loss: 0.4697 - accuracy: 0.8333 - val_loss: 0.8140 - val_accuracy: 0.5938\n",
      "Epoch 20/25\n",
      "3/3 [==============================] - 1s 245ms/step - loss: 0.4701 - accuracy: 0.8125 - val_loss: 0.7970 - val_accuracy: 0.5938\n",
      "Epoch 21/25\n",
      "3/3 [==============================] - 1s 230ms/step - loss: 0.4758 - accuracy: 0.8125 - val_loss: 0.7798 - val_accuracy: 0.5938\n",
      "Epoch 22/25\n",
      "3/3 [==============================] - 1s 211ms/step - loss: 0.4899 - accuracy: 0.8125 - val_loss: 0.7901 - val_accuracy: 0.5938\n",
      "Epoch 23/25\n",
      "3/3 [==============================] - 1s 211ms/step - loss: 0.4893 - accuracy: 0.8333 - val_loss: 0.7688 - val_accuracy: 0.5938\n",
      "Epoch 24/25\n",
      "3/3 [==============================] - 1s 227ms/step - loss: 0.4791 - accuracy: 0.8125 - val_loss: 0.8129 - val_accuracy: 0.5312\n",
      "Epoch 25/25\n",
      "3/3 [==============================] - 1s 181ms/step - loss: 0.4715 - accuracy: 0.8125 - val_loss: 0.7995 - val_accuracy: 0.5938\n",
      "[INFO] serializing network...\n"
     ]
    }
   ],
   "source": [
    "print(\"[INFO] training network...\")\n",
    "H = model.fit(x=aug.flow(trainX, trainY, batch_size=BS),\n",
    "\tvalidation_data=(testX, testY), steps_per_epoch=len(trainX) // BS,\n",
    "\tepochs=EPOCHS, verbose=1)\n",
    "# save the model to disk\n",
    "print(\"[INFO] serializing network...\")\n",
    "model.save(\"model_1.h5\", save_format=\"h5\")"
   ]
  },
  {
   "cell_type": "code",
   "execution_count": 124,
   "metadata": {},
   "outputs": [],
   "source": [
    "plt.style.use(\"ggplot\")\n",
    "plt.figure()\n",
    "N = EPOCHS\n",
    "plt.plot(np.arange(0, N), H.history[\"loss\"], label=\"train_loss\")\n",
    "plt.plot(np.arange(0, N), H.history[\"val_loss\"], label=\"val_loss\")\n",
    "plt.plot(np.arange(0, N), H.history[\"accuracy\"], label=\"train_acc\")\n",
    "plt.plot(np.arange(0, N), H.history[\"val_accuracy\"], label=\"val_acc\")\n",
    "plt.title(\"Training Loss and Accuracy on Santa/Not Santa\")\n",
    "plt.xlabel(\"Epoch #\")\n",
    "plt.ylabel(\"Loss/Accuracy\")\n",
    "plt.legend(loc=\"lower left\")\n",
    "plt.savefig(\"plot.png\")"
   ]
  },
  {
   "cell_type": "code",
   "execution_count": 125,
   "metadata": {},
   "outputs": [
    {
     "name": "stdout",
     "output_type": "stream",
     "text": [
      "(32, 2)\n"
     ]
    }
   ],
   "source": [
    "predictions = model.predict(x=testX, batch_size=32)\n",
    "\n",
    "print(predictions.shape)"
   ]
  },
  {
   "cell_type": "code",
   "execution_count": 126,
   "metadata": {},
   "outputs": [
    {
     "name": "stdout",
     "output_type": "stream",
     "text": [
      "              precision    recall  f1-score   support\n",
      "\n",
      "triple_rider       0.67      0.47      0.55        17\n",
      "double rider       0.55      0.73      0.63        15\n",
      "\n",
      "    accuracy                           0.59        32\n",
      "   macro avg       0.61      0.60      0.59        32\n",
      "weighted avg       0.61      0.59      0.59        32\n",
      "\n"
     ]
    }
   ],
   "source": [
    "print(classification_report(testY.argmax(axis=1),\n",
    "\tpredictions.argmax(axis=1), target_names=[\"triple_rider\",\"double rider\"]))"
   ]
  }
 ],
 "metadata": {
  "interpreter": {
   "hash": "4d1099e7dbe4b62249051d2b6a85870902eeb6ff5afbe2c11682c0cafad43d6e"
  },
  "kernelspec": {
   "display_name": "Python 3.8.13 ('tripleRider')",
   "language": "python",
   "name": "python3"
  },
  "language_info": {
   "codemirror_mode": {
    "name": "ipython",
    "version": 3
   },
   "file_extension": ".py",
   "mimetype": "text/x-python",
   "name": "python",
   "nbconvert_exporter": "python",
   "pygments_lexer": "ipython3",
   "version": "3.8.13"
  },
  "orig_nbformat": 4
 },
 "nbformat": 4,
 "nbformat_minor": 2
}
