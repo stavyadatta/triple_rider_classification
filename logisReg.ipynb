{
 "cells": [
  {
   "cell_type": "code",
   "execution_count": 1,
   "metadata": {},
   "outputs": [
    {
     "name": "stderr",
     "output_type": "stream",
     "text": [
      "2022-04-14 12:31:38.314841: W tensorflow/stream_executor/platform/default/dso_loader.cc:64] Could not load dynamic library 'libcudart.so.11.0'; dlerror: libcudart.so.11.0: cannot open shared object file: No such file or directory\n",
      "2022-04-14 12:31:38.315095: I tensorflow/stream_executor/cuda/cudart_stub.cc:29] Ignore above cudart dlerror if you do not have a GPU set up on your machine.\n"
     ]
    }
   ],
   "source": [
    "import matplotlib\n",
    "matplotlib.use(\"Agg\")\n",
    "\n",
    "# import the necessary packages\n",
    "from sklearn.preprocessing import LabelBinarizer\n",
    "from sklearn.model_selection import train_test_split\n",
    "from sklearn.metrics import classification_report\n",
    "from tensorflow.keras.models import Sequential\n",
    "from tensorflow.keras.layers import Dense\n",
    "from tensorflow.keras.optimizers import SGD\n",
    "from imutils import paths\n",
    "from imutils import paths\n",
    "import matplotlib.pyplot as plt\n",
    "import numpy as np\n",
    "import argparse\n",
    "import random\n",
    "import pickle\n",
    "import cv2\n",
    "import os"
   ]
  },
  {
   "cell_type": "code",
   "execution_count": 2,
   "metadata": {},
   "outputs": [
    {
     "name": "stdout",
     "output_type": "stream",
     "text": [
      "loading images\n"
     ]
    }
   ],
   "source": [
    "print(\"loading images\")\n",
    "data = []\n",
    "labels = []\n",
    "\n",
    "imagePaths = sorted(list(paths.list_images(\"Dataset\")))\n",
    "random.seed(42)\n",
    "random.shuffle(imagePaths)\n",
    "\n",
    "for imagePath in imagePaths:\n",
    "    image = cv2.imread(imagePath)\n",
    "    image = cv2.resize(image, (32, 32)).flatten()\n",
    "    data.append(image)\n",
    "    \n",
    "    label = imagePath.split(os.path.sep)[-2]\n",
    "    labels.append(label)"
   ]
  },
  {
   "cell_type": "code",
   "execution_count": 3,
   "metadata": {},
   "outputs": [],
   "source": [
    "data = np.array(data, dtype=\"float\") / 255.0\n",
    "labels = np.array(labels)"
   ]
  },
  {
   "cell_type": "code",
   "execution_count": 4,
   "metadata": {},
   "outputs": [],
   "source": [
    "# the data for training and the remaining 25% for testing\n",
    "(trainX, testX, trainY, testY) = train_test_split(data,\n",
    "\tlabels, test_size=0.25, random_state=42)\n",
    "\n",
    "lb = LabelBinarizer()\n",
    "trainY = lb.fit_transform(trainY)\n",
    "testY = lb.transform(testY)\n"
   ]
  },
  {
   "cell_type": "code",
   "execution_count": 5,
   "metadata": {},
   "outputs": [
    {
     "name": "stderr",
     "output_type": "stream",
     "text": [
      "2022-04-14 12:31:54.211100: W tensorflow/stream_executor/platform/default/dso_loader.cc:64] Could not load dynamic library 'libcuda.so.1'; dlerror: libcuda.so.1: cannot open shared object file: No such file or directory; LD_LIBRARY_PATH: /home/awiros-tech/anaconda3/envs/tripleRider/lib/python3.8/site-packages/cv2/../../lib64:\n",
      "2022-04-14 12:31:54.211145: W tensorflow/stream_executor/cuda/cuda_driver.cc:269] failed call to cuInit: UNKNOWN ERROR (303)\n",
      "2022-04-14 12:31:54.211174: I tensorflow/stream_executor/cuda/cuda_diagnostics.cc:156] kernel driver does not appear to be running on this host (awi-stavya): /proc/driver/nvidia/version does not exist\n",
      "2022-04-14 12:31:54.211462: I tensorflow/core/platform/cpu_feature_guard.cc:151] This TensorFlow binary is optimized with oneAPI Deep Neural Network Library (oneDNN) to use the following CPU instructions in performance-critical operations:  AVX2 FMA\n",
      "To enable them in other operations, rebuild TensorFlow with the appropriate compiler flags.\n"
     ]
    }
   ],
   "source": [
    "model = Sequential()\n",
    "model.add(Dense(1024, input_shape=(3072,), activation=\"relu\"))\n",
    "model.add(Dense(512, activation=\"relu\"))\n",
    "model.add(Dense(len(lb.classes_), activation=\"sigmoid\"))"
   ]
  },
  {
   "cell_type": "code",
   "execution_count": 6,
   "metadata": {},
   "outputs": [
    {
     "name": "stdout",
     "output_type": "stream",
     "text": [
      "training network\n"
     ]
    },
    {
     "name": "stderr",
     "output_type": "stream",
     "text": [
      "/home/awiros-tech/anaconda3/envs/tripleRider/lib/python3.8/site-packages/keras/optimizer_v2/gradient_descent.py:102: UserWarning: The `lr` argument is deprecated, use `learning_rate` instead.\n",
      "  super(SGD, self).__init__(name, **kwargs)\n",
      "2022-04-14 12:31:54.624437: W tensorflow/core/framework/cpu_allocator_impl.cc:82] Allocation of 18186240 exceeds 10% of free system memory.\n"
     ]
    },
    {
     "name": "stdout",
     "output_type": "stream",
     "text": [
      "Epoch 1/15\n",
      "99/99 [==============================] - 6s 51ms/step - loss: 0.7778 - accuracy: 0.6149 - val_loss: 0.6979 - val_accuracy: 0.6619\n",
      "Epoch 2/15\n",
      "99/99 [==============================] - 4s 41ms/step - loss: 0.6640 - accuracy: 0.6736 - val_loss: 0.7736 - val_accuracy: 0.5364\n",
      "Epoch 3/15\n",
      "99/99 [==============================] - 4s 39ms/step - loss: 0.6308 - accuracy: 0.7027 - val_loss: 0.7043 - val_accuracy: 0.5911\n",
      "Epoch 4/15\n",
      "99/99 [==============================] - 4s 39ms/step - loss: 0.6204 - accuracy: 0.7014 - val_loss: 0.6083 - val_accuracy: 0.7004\n",
      "Epoch 5/15\n",
      "99/99 [==============================] - 4s 43ms/step - loss: 0.5908 - accuracy: 0.7284 - val_loss: 0.5902 - val_accuracy: 0.7126\n",
      "Epoch 6/15\n",
      "99/99 [==============================] - 4s 42ms/step - loss: 0.5722 - accuracy: 0.7338 - val_loss: 0.5839 - val_accuracy: 0.7146\n",
      "Epoch 7/15\n",
      "99/99 [==============================] - 5s 50ms/step - loss: 0.5467 - accuracy: 0.7439 - val_loss: 0.9389 - val_accuracy: 0.5202\n",
      "Epoch 8/15\n",
      "99/99 [==============================] - 4s 45ms/step - loss: 0.5524 - accuracy: 0.7365 - val_loss: 0.6253 - val_accuracy: 0.7105\n",
      "Epoch 9/15\n",
      "99/99 [==============================] - 5s 47ms/step - loss: 0.5459 - accuracy: 0.7493 - val_loss: 0.6383 - val_accuracy: 0.6721\n",
      "Epoch 10/15\n",
      "99/99 [==============================] - 4s 46ms/step - loss: 0.5262 - accuracy: 0.7588 - val_loss: 0.6339 - val_accuracy: 0.7065\n",
      "Epoch 11/15\n",
      "99/99 [==============================] - 5s 46ms/step - loss: 0.5166 - accuracy: 0.7642 - val_loss: 0.8039 - val_accuracy: 0.6457\n",
      "Epoch 12/15\n",
      "99/99 [==============================] - 5s 46ms/step - loss: 0.5003 - accuracy: 0.7804 - val_loss: 0.5671 - val_accuracy: 0.7186\n",
      "Epoch 13/15\n",
      "99/99 [==============================] - 4s 44ms/step - loss: 0.4894 - accuracy: 0.7764 - val_loss: 0.8416 - val_accuracy: 0.5729\n",
      "Epoch 14/15\n",
      "99/99 [==============================] - 4s 44ms/step - loss: 0.4888 - accuracy: 0.7858 - val_loss: 0.6088 - val_accuracy: 0.7126\n",
      "Epoch 15/15\n",
      "99/99 [==============================] - 5s 47ms/step - loss: 0.4631 - accuracy: 0.7986 - val_loss: 0.6234 - val_accuracy: 0.7227\n"
     ]
    }
   ],
   "source": [
    "INIT_LR = 0.01\n",
    "EPOCHS = 15\n",
    "\n",
    "print(\"training network\")\n",
    "opt = SGD(lr=INIT_LR)\n",
    "\n",
    "model.compile(loss=\"categorical_crossentropy\", optimizer=opt,\n",
    "            metrics=[\"accuracy\"])\n",
    "\n",
    "H = model.fit(x=trainX, y=trainY, validation_data=(testX, testY), epochs=EPOCHS, batch_size=15)"
   ]
  },
  {
   "cell_type": "code",
   "execution_count": 9,
   "metadata": {},
   "outputs": [
    {
     "name": "stdout",
     "output_type": "stream",
     "text": [
      "[INFO] evaluating network...\n",
      "[[0.9131098  0.43588918 0.09295484]\n",
      " [0.8426304  0.69809026 0.05021968]\n",
      " [0.7927152  0.89928305 0.03319663]\n",
      " ...\n",
      " [0.74331534 0.9471692  0.02344072]\n",
      " [0.89985526 0.6368341  0.04155031]\n",
      " [0.84781885 0.30185968 0.20537248]]\n"
     ]
    }
   ],
   "source": [
    "print(\"[INFO] evaluating network...\")\n",
    "predictions = model.predict(x=testX, batch_size=32)\n",
    "\n",
    "print(predictions)"
   ]
  },
  {
   "cell_type": "code",
   "execution_count": 8,
   "metadata": {},
   "outputs": [
    {
     "name": "stdout",
     "output_type": "stream",
     "text": [
      "               precision    recall  f1-score   support\n",
      "\n",
      "double_person       0.65      0.89      0.75       233\n",
      "single_person       0.85      0.60      0.71       249\n",
      "triple_person       0.00      0.00      0.00        12\n",
      "\n",
      "     accuracy                           0.72       494\n",
      "    macro avg       0.50      0.50      0.49       494\n",
      " weighted avg       0.74      0.72      0.71       494\n",
      "\n"
     ]
    },
    {
     "name": "stderr",
     "output_type": "stream",
     "text": [
      "/home/awiros-tech/anaconda3/envs/tripleRider/lib/python3.8/site-packages/sklearn/metrics/_classification.py:1318: UndefinedMetricWarning: Precision and F-score are ill-defined and being set to 0.0 in labels with no predicted samples. Use `zero_division` parameter to control this behavior.\n",
      "  _warn_prf(average, modifier, msg_start, len(result))\n",
      "/home/awiros-tech/anaconda3/envs/tripleRider/lib/python3.8/site-packages/sklearn/metrics/_classification.py:1318: UndefinedMetricWarning: Precision and F-score are ill-defined and being set to 0.0 in labels with no predicted samples. Use `zero_division` parameter to control this behavior.\n",
      "  _warn_prf(average, modifier, msg_start, len(result))\n",
      "/home/awiros-tech/anaconda3/envs/tripleRider/lib/python3.8/site-packages/sklearn/metrics/_classification.py:1318: UndefinedMetricWarning: Precision and F-score are ill-defined and being set to 0.0 in labels with no predicted samples. Use `zero_division` parameter to control this behavior.\n",
      "  _warn_prf(average, modifier, msg_start, len(result))\n"
     ]
    }
   ],
   "source": [
    "print(classification_report(testY.argmax(axis=1),\n",
    "\tpredictions.argmax(axis=1), target_names=lb.classes_))"
   ]
  }
 ],
 "metadata": {
  "interpreter": {
   "hash": "4d1099e7dbe4b62249051d2b6a85870902eeb6ff5afbe2c11682c0cafad43d6e"
  },
  "kernelspec": {
   "display_name": "Python 3.8.13 ('tripleRider')",
   "language": "python",
   "name": "python3"
  },
  "language_info": {
   "codemirror_mode": {
    "name": "ipython",
    "version": 3
   },
   "file_extension": ".py",
   "mimetype": "text/x-python",
   "name": "python",
   "nbconvert_exporter": "python",
   "pygments_lexer": "ipython3",
   "version": "3.8.13"
  },
  "orig_nbformat": 4
 },
 "nbformat": 4,
 "nbformat_minor": 2
}
